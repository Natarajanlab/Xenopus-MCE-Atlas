{
 "cells": [
  {
   "cell_type": "markdown",
   "metadata": {},
   "source": [
    "# In this notebook I will devise a strategy for cluster mapping between developmental stages"
   ]
  },
  {
   "cell_type": "markdown",
   "metadata": {},
   "source": [
    "# Imports"
   ]
  },
  {
   "cell_type": "code",
   "execution_count": 2,
   "metadata": {},
   "outputs": [
    {
     "name": "stderr",
     "output_type": "stream",
     "text": [
      "findfont: Font family ['Raleway'] not found. Falling back to DejaVu Sans.\n",
      "findfont: Font family ['Lato'] not found. Falling back to DejaVu Sans.\n"
     ]
    }
   ],
   "source": [
    "import pandas as pd\n",
    "import numpy as np\n",
    "import seaborn as sns\n",
    "import matplotlib.pyplot as plt\n",
    "import scanpy as sc\n",
    "from scipy import stats\n",
    "import os\n",
    "import matplotlib\n",
    "import pickle\n",
    "%matplotlib inline\n",
    "import palantir\n",
    "import harmony\n",
    "from numba import jit, float32, int8\n",
    "\n",
    "import random\n",
    "np.random.seed(0)\n",
    "random.seed(0)\n",
    "\n",
    "\n",
    "import warnings\n",
    "warnings.filterwarnings('ignore')"
   ]
  },
  {
   "cell_type": "markdown",
   "metadata": {},
   "source": [
    "# Import data"
   ]
  },
  {
   "cell_type": "code",
   "execution_count": 4,
   "metadata": {},
   "outputs": [],
   "source": [
    "\n",
    "def save_intermediate_files(datasets, temp_dir, file_name_template, identifier):\n",
    "    for d in datasets:\n",
    "        file = os.path.join('.', temp_dir, file_name_template + '_' + d.obs[identifier][0] + '.h5ad')\n",
    "        d.write(file, compression='gzip')\n",
    "        \n",
    "identifiers = ['st08','st10.5','st12','st13','st16','st18','st20','st22','st24','st27']\n",
    "      \n",
    "def load_intermediate_files(temp_dir, file_name_template, identifiers):\n",
    "    ob_list = []\n",
    "    for i in identifiers:\n",
    "        file = os.path.join('.', temp_dir, file_name_template + '_' + i+ '.h5ad')\n",
    "        ob_list.append(sc.read_h5ad(file))\n",
    "    return ob_list"
   ]
  },
  {
   "cell_type": "code",
   "execution_count": 5,
   "metadata": {},
   "outputs": [],
   "source": [
    "import sys\n",
    "sys.path.append('../Integrated_analysis/')\n",
    "from Integrate import concat_for_harmony, adata_to_df"
   ]
  },
  {
   "cell_type": "code",
   "execution_count": 6,
   "metadata": {},
   "outputs": [
    {
     "name": "stdout",
     "output_type": "stream",
     "text": [
      "st08\n",
      "st10.5\n",
      "st12\n",
      "st13\n",
      "st16\n",
      "st18\n",
      "st20\n",
      "st22\n",
      "st24\n",
      "st27\n",
      "Concatenating data..\n"
     ]
    }
   ],
   "source": [
    "timepoints = ['st08', 'st10.5', 'st12', 'st13', 'st16', 'st18', 'st20', 'st22', 'st24', 'st27']\n",
    "adatas = load_intermediate_files( '../intermediate_files', 'zUMI_raw_singlets' , timepoints)\n",
    "counts = concat_for_harmony(adatas, timepoints)\n",
    "norm_df = harmony.utils.normalize_counts(counts)\n",
    "hvg_genes = harmony.utils.hvg_genes(norm_df, no_genes=2000)\n",
    "data_df = harmony.utils.log_transform(norm_df.loc[:,hvg_genes])\n"
   ]
  },
  {
   "cell_type": "code",
   "execution_count": 7,
   "metadata": {},
   "outputs": [],
   "source": [
    "\n",
    "tp = pd.Series(index=data_df.index)\n",
    "for t in timepoints:\n",
    "    cells = data_df.index[data_df.index.str.contains(t)]\n",
    "    tp[cells] = t"
   ]
  },
  {
   "cell_type": "code",
   "execution_count": 8,
   "metadata": {},
   "outputs": [],
   "source": [
    "import pickle\n",
    "\n",
    "with open('../intermediate_files/clusters', \"rb\") as f:\n",
    "    clusters = pickle.load( f)"
   ]
  },
  {
   "cell_type": "code",
   "execution_count": null,
   "metadata": {},
   "outputs": [],
   "source": [
    "spring = pd.read_csv('../embeddings/SPRING_integrated_coordinates.txt', header = None, index_col = 0)\n",
    "spring.columns = ['x', 'y']\n",
    "spring.index = counts.index"
   ]
  },
  {
   "cell_type": "code",
   "execution_count": null,
   "metadata": {},
   "outputs": [],
   "source": [
    "\n",
    "    \n",
    "import pickle\n",
    "with open('../intermediate_files/louvain_for_lineage_V3', \"rb\") as f:\n",
    "    clusters_local_ind = pickle.load( f)"
   ]
  },
  {
   "cell_type": "code",
   "execution_count": 10,
   "metadata": {},
   "outputs": [],
   "source": [
    "df = pd.concat([pd.Series(['_'.join(['P', str(c)]) for c in clusters], index = clusters.index), clusters_local_ind], axis = 1)\n",
    "df.columns = ['phenograph', 'louvain']\n",
    "\n",
    "df = pd.crosstab(df.louvain, df.phenograph)\n",
    "df.to_csv('frac_lower_resolution.tsv', sep = '\\t')\n"
   ]
  },
  {
   "cell_type": "code",
   "execution_count": 11,
   "metadata": {},
   "outputs": [],
   "source": [
    "from sklearn.neighbors import NearestNeighbors\n",
    "from scipy.spatial import cKDTree\n",
    "from os import cpu_count"
   ]
  },
  {
   "cell_type": "code",
   "execution_count": null,
   "metadata": {},
   "outputs": [],
   "source": []
  },
  {
   "cell_type": "code",
   "execution_count": 15,
   "metadata": {},
   "outputs": [],
   "source": [
    "stage_order = ['st08', 'st10.5', 'st12', 'st13', 'st16', 'st18', 'st20', 'st22',\n",
    "       'st24', 'st27']"
   ]
  },
  {
   "cell_type": "code",
   "execution_count": 16,
   "metadata": {},
   "outputs": [],
   "source": [
    "stage_order_rev = stage_order[::-1]"
   ]
  },
  {
   "cell_type": "code",
   "execution_count": 17,
   "metadata": {},
   "outputs": [],
   "source": [
    "n_jobs=24\n",
    "mnn  = []\n",
    "knn = 20\n",
    "\n",
    "def find_neighbors(stage_order, data_df, tp, knn, n_jobs):\n",
    "    mnn  = []\n",
    "    stage_order_rev = stage_order[::-1]\n",
    "    for i in range(len(stage_order)-1):\n",
    "        print('\\t', stage_order_rev[i], '->', stage_order_rev[i+1])\n",
    "\n",
    "        old = stage_order_rev[i]\n",
    "        new = stage_order_rev[i+1]\n",
    "\n",
    "\n",
    "        df1 = data_df.loc[tp[tp == old].index]\n",
    "        df2 = data_df.loc[tp[tp == new].index]\n",
    "\n",
    "\n",
    "        mnn.append(cKDTree(df2).query(x=df1, k=knn, n_jobs=n_jobs)[1])\n",
    "    return mnn\n",
    "    "
   ]
  },
  {
   "cell_type": "code",
   "execution_count": 18,
   "metadata": {},
   "outputs": [],
   "source": [
    "def map_neighbor(idx, stage_idx, clusters):\n",
    "    return clusters[stage_idx[idx]]\n"
   ]
  },
  {
   "cell_type": "code",
   "execution_count": 19,
   "metadata": {},
   "outputs": [],
   "source": [
    "\n",
    "def voting(stage_order, mnn, knn,  data_df, tp, clusters, min_cells):\n",
    "    \n",
    "    vote_result = {}\n",
    "    validation = {}\n",
    "    stage_order_rev = stage_order[::-1]\n",
    "    for i in range(len(stage_order)-1):\n",
    "        print('\\t', stage_order_rev[i], '->', stage_order_rev[i+1])\n",
    "\n",
    "        old = stage_order_rev[i]\n",
    "        new = stage_order_rev[i+1]\n",
    "        \n",
    "        neighbors = pd.DataFrame(mnn[i], index = data_df.loc[tp[tp == old].index].index)\n",
    "        target_idx = data_df.loc[tp[tp == new].index].index\n",
    "\n",
    "        neighbors = pd.concat([neighbors[i].apply(lambda x: map_neighbor(x, target_idx, clusters)) for i in range(knn)], axis = 1)\n",
    "        top_clusters = neighbors.mode(axis = 1)\n",
    "        conf_top_clusters = top_clusters[top_clusters.notna().sum(axis = 1) == 1][0]\n",
    "        \n",
    "        mapping = pd.concat([conf_top_clusters, clusters], axis = 1).dropna()\n",
    "        mapping.columns = ['maps_to', 'cluster']\n",
    "        mapping.cluster = [str(x)#+'_'+old \n",
    "                           for x in mapping.cluster]\n",
    "        mapping.maps_to = [str(x)#+'_'+new \n",
    "                           for x in mapping.maps_to]\n",
    "        mapping['idx'] = range(len(mapping.maps_to))\n",
    "        #mapping.maps_to = [int(x) for x in mapping.maps_to]\n",
    "        mapping = mapping.groupby(['cluster', 'maps_to']).count()\n",
    "        for_validation = mapping.copy()\n",
    "        mapping = mapping.sort_values('idx', ascending = False).reset_index().drop_duplicates(subset='cluster', keep='first').set_index('cluster')\n",
    "        \n",
    "        vote_result[old] = mapping.loc[mapping.idx > min_cells]\n",
    "        validation[old] = for_validation\n",
    "    return vote_result, validation\n",
    "\n"
   ]
  },
  {
   "cell_type": "code",
   "execution_count": 20,
   "metadata": {},
   "outputs": [],
   "source": [
    "def anscestor_vote(knn, stage_order, n_jobs,  data_df, timepoints, clusters, min_cells = 1):\n",
    "    print('Finding {} neighbors in presceding stages'.format(knn))\n",
    "    mnn = find_neighbors(stage_order, data_df, timepoints, knn, n_jobs)\n",
    "    \n",
    "    print('Performing per cell and cluster anscestor voting')\n",
    "    vote_result = voting(stage_order, mnn, knn,  data_df, timepoints, clusters, min_cells)\n",
    "    return vote_result"
   ]
  },
  {
   "cell_type": "code",
   "execution_count": 21,
   "metadata": {},
   "outputs": [
    {
     "name": "stdout",
     "output_type": "stream",
     "text": [
      "Finding 1 neighbors in presceding stages\n",
      "\t st27 -> st24\n",
      "\t st24 -> st22\n",
      "\t st22 -> st20\n",
      "\t st20 -> st18\n",
      "\t st18 -> st16\n",
      "\t st16 -> st13\n",
      "\t st13 -> st12\n",
      "\t st12 -> st10.5\n",
      "\t st10.5 -> st08\n",
      "Performing per cell and cluster anscestor voting\n",
      "\t st27 -> st24\n",
      "\t st24 -> st22\n",
      "\t st22 -> st20\n",
      "\t st20 -> st18\n",
      "\t st18 -> st16\n",
      "\t st16 -> st13\n",
      "\t st13 -> st12\n",
      "\t st12 -> st10.5\n",
      "\t st10.5 -> st08\n"
     ]
    }
   ],
   "source": [
    "vote_result, validation = anscestor_vote(knn = 1, \n",
    "                             stage_order = stage_order,\n",
    "                             n_jobs = 24,  \n",
    "                             data_df = data_df, \n",
    "                             timepoints = tp, \n",
    "                             clusters = clusters_local_ind)#clusters_local_ind)"
   ]
  },
  {
   "cell_type": "code",
   "execution_count": null,
   "metadata": {},
   "outputs": [],
   "source": []
  },
  {
   "cell_type": "code",
   "execution_count": 232,
   "metadata": {},
   "outputs": [
    {
     "name": "stdout",
     "output_type": "stream",
     "text": [
      "Finding 1 neighbors in presceding stages\n",
      "\t st27 -> st24\n",
      "\t st24 -> st22\n",
      "\t st22 -> st20\n",
      "\t st20 -> st18\n",
      "\t st18 -> st16\n",
      "\t st16 -> st13\n",
      "\t st13 -> st12\n",
      "\t st12 -> st10.5\n",
      "\t st10.5 -> st08\n",
      "Performing per cell and cluster anscestor voting\n",
      "\t st27 -> st24\n",
      "\t st24 -> st22\n",
      "\t st22 -> st20\n",
      "\t st20 -> st18\n",
      "\t st18 -> st16\n",
      "\t st16 -> st13\n",
      "\t st13 -> st12\n",
      "\t st12 -> st10.5\n",
      "\t st10.5 -> st08\n"
     ]
    }
   ],
   "source": [
    "vote_result_low_res = anscestor_vote(knn = 1, \n",
    "                             stage_order = stage_order,\n",
    "                             n_jobs = 24,  \n",
    "                             data_df = data_df, \n",
    "                             timepoints = tp, \n",
    "                             clusters = clusters)#clusters_local_ind)"
   ]
  },
  {
   "cell_type": "code",
   "execution_count": 21,
   "metadata": {},
   "outputs": [],
   "source": [
    "def hierarchy_pos(G, root=None, width=15., vert_gap = 0.2, vert_loc = 0, xcenter = 0.5):\n",
    "\n",
    "    '''\n",
    "    From Joel's answer at https://stackoverflow.com/a/29597209/2966723.  \n",
    "    Licensed under Creative Commons Attribution-Share Alike \n",
    "\n",
    "    If the graph is a tree this will return the positions to plot this in a \n",
    "    hierarchical layout.\n",
    "\n",
    "    G: the graph (must be a tree)\n",
    "\n",
    "    root: the root node of current branch \n",
    "    - if the tree is directed and this is not given, \n",
    "      the root will be found and used\n",
    "    - if the tree is directed and this is given, then \n",
    "      the positions will be just for the descendants of this node.\n",
    "    - if the tree is undirected and not given, \n",
    "      then a random choice will be used.\n",
    "\n",
    "    width: horizontal space allocated for this branch - avoids overlap with other branches\n",
    "\n",
    "    vert_gap: gap between levels of hierarchy\n",
    "\n",
    "    vert_loc: vertical location of root\n",
    "\n",
    "    xcenter: horizontal location of root\n",
    "    '''\n",
    "    if not nx.is_tree(G):\n",
    "        raise TypeError('cannot use hierarchy_pos on a graph that is not a tree')\n",
    "\n",
    "    if root is None:\n",
    "        if isinstance(G, nx.DiGraph):\n",
    "            root = next(iter(nx.topological_sort(G)))  #allows back compatibility with nx version 1.11\n",
    "        else:\n",
    "            root = random.choice(list(G.nodes))\n",
    "\n",
    "    def _hierarchy_pos(G, root, width=1., vert_gap = 0.2, vert_loc = 0, xcenter = 0.5, pos = None, parent = None):\n",
    "        '''\n",
    "        see hierarchy_pos docstring for most arguments\n",
    "\n",
    "        pos: a dict saying where all nodes go if they have been assigned\n",
    "        parent: parent of this branch. - only affects it if non-directed\n",
    "\n",
    "        '''\n",
    "\n",
    "        if pos is None:\n",
    "            pos = {root:(xcenter,vert_loc)}\n",
    "        else:\n",
    "            pos[root] = (xcenter, vert_loc)\n",
    "        children = list(G.neighbors(root))\n",
    "        if not isinstance(G, nx.DiGraph) and parent is not None:\n",
    "            children.remove(parent)  \n",
    "        if len(children)!=0:\n",
    "            dx = width/len(children) \n",
    "            nextx = xcenter - width/2 - dx/2\n",
    "            for child in children:\n",
    "                nextx += dx\n",
    "                pos = _hierarchy_pos(G,child, width = dx, vert_gap = vert_gap, \n",
    "                                    vert_loc = vert_loc-vert_gap, xcenter=nextx,\n",
    "                                    pos=pos, parent = root)\n",
    "        return pos\n",
    "\n",
    "\n",
    "    return _hierarchy_pos(G, root, width, vert_gap, vert_loc, xcenter)"
   ]
  },
  {
   "cell_type": "code",
   "execution_count": 22,
   "metadata": {},
   "outputs": [],
   "source": [
    "def compute_layout(vote_result):\n",
    "\n",
    "\n",
    "    tree = [[(x, vote_result[ i].loc[x, 'maps_to']) for x in vote_result[ i].index]  for i in stage_order[1:] ]\n",
    "    tree = [y for x in tree for y in x] \n",
    "    G=nx.Graph()\n",
    "    G.add_edges_from(tree)\n",
    "    pos = nx.spring_layout(G, iterations = 1000)\n",
    "    return G, pos\n"
   ]
  },
  {
   "cell_type": "code",
   "execution_count": null,
   "metadata": {},
   "outputs": [],
   "source": []
  },
  {
   "cell_type": "code",
   "execution_count": 22,
   "metadata": {},
   "outputs": [],
   "source": [
    "df = pd.concat(vote_result, axis = 0).reset_index()[['maps_to','cluster']]\n",
    "df.columns = ['to', 'from']\n",
    "df.to_csv('links_louvain_for_lineage.tsv', sep = '\\t')"
   ]
  },
  {
   "cell_type": "code",
   "execution_count": 57,
   "metadata": {},
   "outputs": [],
   "source": [
    "lis = list()\n",
    "for i in validation.keys():\n",
    "    lis.append(validation[i])\n",
    "    \n",
    "lis = pd.concat(lis).reset_index()\n",
    "\n",
    "lis.pivot(index = 'maps_to', columns = 'cluster', values = 'idx').to_csv('lineage_mapping_confidence.tsv', sep = '\\t')"
   ]
  },
  {
   "cell_type": "code",
   "execution_count": 47,
   "metadata": {},
   "outputs": [],
   "source": [
    "def validate_voting(validation, stage_order):\n",
    "    for idx, i in enumerate(stage_order[1:]):\n",
    "        print(stage_order[idx], stage_order[idx+1])\n",
    "        df = validation[i].reset_index()\n",
    "        df = df.pivot(index='cluster', columns='maps_to', values='idx').replace(np.NaN, 0)\n",
    "        if len(df.columns ) > 1:\n",
    "            fg = sns.clustermap(df.div(df.sum(axis=1), axis = 0), figsize=(5,5))\n",
    "            fg.ax_heatmap.set_xlabel('Stage : {}'.format(stage_order[idx]))\n",
    "            fg.ax_heatmap.set_ylabel('Stage : {}'.format(stage_order[idx+1]))\n",
    "        else:\n",
    "            fg = sns.heatmap(df.div(df.sum(axis=1), axis = 0), vmin = 0, vmax = 1)\n",
    "            fg.set(xlabel='Stage : {}'.format(stage_order[idx]), ylabel='Stage : {}'.format(stage_order[idx+1]))\n",
    "        plt.savefig('Figures/mapping_confidence{}_to_{}.pdf'.format(stage_order[idx+1].replace('.', '_'), \n",
    "                                                                             stage_order[idx].replace('.', '_')))\n",
    "        plt.show()\n",
    "            "
   ]
  },
  {
   "cell_type": "code",
   "execution_count": 48,
   "metadata": {},
   "outputs": [
    {
     "name": "stdout",
     "output_type": "stream",
     "text": [
      "st08 st10.5\n"
     ]
    },
    {
     "data": {
      "image/png": "[encoded data removed]",
      "text/plain": [
       "<Figure size 432x288 with 2 Axes>"
      ]
     },
     "metadata": {
      "needs_background": "light"
     },
     "output_type": "display_data"
    },
    {
     "name": "stdout",
     "output_type": "stream",
     "text": [
      "st10.5 st12\n"
     ]
    },
    {
     "data": {
      "image/png": "[encoded data removed]",
      "text/plain": [
       "<Figure size 432x288 with 2 Axes>"
      ]
     },
     "metadata": {
      "needs_background": "light"
     },
     "output_type": "display_data"
    },
    {
     "name": "stdout",
     "output_type": "stream",
     "text": [
      "st12 st13\n"
     ]
    },
    {
     "data": {
      "image/png": "[encoded data removed]",
      "text/plain": [
       "<Figure size 360x360 with 4 Axes>"
      ]
     },
     "metadata": {
      "needs_background": "light"
     },
     "output_type": "display_data"
    },
    {
     "name": "stdout",
     "output_type": "stream",
     "text": [
      "st13 st16\n"
     ]
    },
    {
     "data": {
      "image/png": "[encoded data removed]",
      "text/plain": [
       "<Figure size 360x360 with 4 Axes>"
      ]
     },
     "metadata": {
      "needs_background": "light"
     },
     "output_type": "display_data"
    },
    {
     "name": "stdout",
     "output_type": "stream",
     "text": [
      "st16 st18\n"
     ]
    },
    {
     "data": {
      "image/png": "[encoded data removed]",
      "text/plain": [
       "<Figure size 360x360 with 4 Axes>"
      ]
     },
     "metadata": {
      "needs_background": "light"
     },
     "output_type": "display_data"
    },
    {
     "name": "stdout",
     "output_type": "stream",
     "text": [
      "st18 st20\n"
     ]
    },
    {
     "data": {
      "image/png": "[encoded data removed]",
      "text/plain": [
       "<Figure size 360x360 with 4 Axes>"
      ]
     },
     "metadata": {
      "needs_background": "light"
     },
     "output_type": "display_data"
    },
    {
     "name": "stdout",
     "output_type": "stream",
     "text": [
      "st20 st22\n"
     ]
    },
    {
     "data": {
      "image/png": "[encoded data removed]",
      "text/plain": [
       "<Figure size 360x360 with 4 Axes>"
      ]
     },
     "metadata": {
      "needs_background": "light"
     },
     "output_type": "display_data"
    },
    {
     "name": "stdout",
     "output_type": "stream",
     "text": [
      "st22 st24\n"
     ]
    },
    {
     "data": {
      "image/png": "[encoded data removed]",
      "text/plain": [
       "<Figure size 360x360 with 4 Axes>"
      ]
     },
     "metadata": {
      "needs_background": "light"
     },
     "output_type": "display_data"
    },
    {
     "name": "stdout",
     "output_type": "stream",
     "text": [
      "st24 st27\n"
     ]
    },
    {
     "data": {
      "image/png": "[encoded data removed]",
      "text/plain": [
       "<Figure size 360x360 with 4 Axes>"
      ]
     },
     "metadata": {
      "needs_background": "light"
     },
     "output_type": "display_data"
    }
   ],
   "source": [
    "validate_voting(validation, stage_order)"
   ]
  },
  {
   "cell_type": "code",
   "execution_count": null,
   "metadata": {},
   "outputs": [],
   "source": []
  },
  {
   "cell_type": "code",
   "execution_count": 24,
   "metadata": {},
   "outputs": [],
   "source": [
    "Ns =clusters_local_ind.value_counts()\n",
    "Ns = pd.Series([' = '.join(['N', str(i)]) for i in Ns], index = Ns.index)\n",
    "Ns.to_csv('louvain_clust_size.tsv', sep = '\\t')"
   ]
  },
  {
   "cell_type": "code",
   "execution_count": 28,
   "metadata": {},
   "outputs": [],
   "source": [
    "cc_phase = pd.read_csv('../Old_lineage_map_files/cc_phase.tsv', sep = '\\t', index_col = 0, header = None)\n",
    "cc_phase.columns = ['phase']"
   ]
  },
  {
   "cell_type": "code",
   "execution_count": 29,
   "metadata": {},
   "outputs": [],
   "source": [
    "cc = pd.concat([cc_phase, clusters_local_ind], axis = 1)"
   ]
  },
  {
   "cell_type": "code",
   "execution_count": 30,
   "metadata": {},
   "outputs": [],
   "source": [
    "cc.columns = ['phase', 'group']\n",
    "cc = pd.crosstab( cc.group, cc.phase)"
   ]
  },
  {
   "cell_type": "code",
   "execution_count": 73,
   "metadata": {},
   "outputs": [],
   "source": [
    "test = pd.DataFrame(counts.sum(axis = 1))\n",
    "test['group'] = clusters_local_ind\n",
    "cou = test.groupby('group').mean()\n",
    "cou.columns = ['Mean Counts']"
   ]
  },
  {
   "cell_type": "code",
   "execution_count": 77,
   "metadata": {},
   "outputs": [],
   "source": [
    "test = pd.DataFrame((counts>0).sum(axis = 1))\n",
    "test['group'] = clusters_local_ind\n",
    "gen = test.groupby('group').mean()\n",
    "gen.columns = ['Mean Genes detected']"
   ]
  },
  {
   "cell_type": "code",
   "execution_count": 75,
   "metadata": {},
   "outputs": [],
   "source": [
    "Ns =pd.DataFrame(clusters_local_ind.value_counts())\n",
    "Ns.columns = ['N cells']"
   ]
  },
  {
   "cell_type": "code",
   "execution_count": 31,
   "metadata": {},
   "outputs": [],
   "source": [
    "cc.to_csv('cc_louvain_freq.tsv', sep = '\\t')"
   ]
  },
  {
   "cell_type": "code",
   "execution_count": 79,
   "metadata": {},
   "outputs": [],
   "source": [
    "pd.concat([Ns, cc, cou, gen], axis = 1).to_csv('louvain_mapping_stats.tsv', sep = '\\t')"
   ]
  },
  {
   "cell_type": "code",
   "execution_count": 25,
   "metadata": {},
   "outputs": [],
   "source": [
    "norm_df['group'] = clusters_local_ind\n",
    "norm_df.groupby('group').mean().to_csv('group_expression.tsv', sep = '\\t')"
   ]
  },
  {
   "cell_type": "code",
   "execution_count": null,
   "metadata": {},
   "outputs": [],
   "source": []
  },
  {
   "cell_type": "code",
   "execution_count": null,
   "metadata": {},
   "outputs": [],
   "source": []
  },
  {
   "cell_type": "code",
   "execution_count": null,
   "metadata": {},
   "outputs": [],
   "source": []
  },
  {
   "cell_type": "code",
   "execution_count": null,
   "metadata": {},
   "outputs": [],
   "source": []
  }
 ],
 "metadata": {
  "kernelspec": {
   "display_name": "Python 3",
   "language": "python",
   "name": "python3"
  },
  "language_info": {
   "codemirror_mode": {
    "name": "ipython",
    "version": 3
   },
   "file_extension": ".py",
   "mimetype": "text/x-python",
   "name": "python",
   "nbconvert_exporter": "python",
   "pygments_lexer": "ipython3",
   "version": "3.7.8"
  }
 },
 "nbformat": 4,
 "nbformat_minor": 4
}
