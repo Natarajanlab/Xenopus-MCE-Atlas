{
 "cells": [
  {
   "cell_type": "code",
   "execution_count": 1,
   "metadata": {},
   "outputs": [
    {
     "name": "stderr",
     "output_type": "stream",
     "text": [
      "findfont: Font family ['Raleway'] not found. Falling back to DejaVu Sans.\n",
      "findfont: Font family ['Lato'] not found. Falling back to DejaVu Sans.\n"
     ]
    }
   ],
   "source": [
    "import pandas as pd\n",
    "import numpy as np\n",
    "import os\n",
    "import scanpy as sc\n",
    "import harmony\n",
    "%matplotlib inline\n",
    "#import bbknn\n",
    "#import mnnpy\n",
    "import seaborn as sns\n",
    "import matplotlib.pyplot as plt"
   ]
  },
  {
   "cell_type": "code",
   "execution_count": null,
   "metadata": {},
   "outputs": [],
   "source": []
  },
  {
   "cell_type": "code",
   "execution_count": null,
   "metadata": {},
   "outputs": [],
   "source": []
  },
  {
   "cell_type": "code",
   "execution_count": 2,
   "metadata": {},
   "outputs": [
    {
     "name": "stdout",
     "output_type": "stream",
     "text": [
      "st08\n",
      "st10.5\n",
      "st12\n",
      "st13\n",
      "st16\n",
      "st18\n",
      "st20\n",
      "st22\n",
      "st24\n",
      "st27\n",
      "Concatenating data..\n"
     ]
    }
   ],
   "source": [
    "\n",
    "def save_intermediate_files(datasets, temp_dir, file_name_template, identifier):\n",
    "    for d in datasets:\n",
    "        file = os.path.join('.', temp_dir, file_name_template + '_' + d.obs[identifier][0] + '.h5ad')\n",
    "        d.write(file, compression='gzip')\n",
    "        \n",
    "identifiers = ['st08','st10.5','st12','st13','st16','st18','st20','st22','st24','st27']\n",
    "      \n",
    "def load_intermediate_files(temp_dir, file_name_template, identifiers):\n",
    "    ob_list = []\n",
    "    for i in identifiers:\n",
    "        file = os.path.join('.', temp_dir, file_name_template + '_' + i+ '.h5ad')\n",
    "        ob_list.append(sc.read_h5ad(file))\n",
    "    return ob_list\n",
    "\n",
    "import sys\n",
    "sys.path.append('/work/Xenopus/Notebooks/V3/Integrated_analysis/')\n",
    "from Integrate import concat_for_harmony, adata_to_df\n",
    "\n",
    "timepoints = ['st08', 'st10.5', 'st12', 'st13', 'st16', 'st18', 'st20', 'st22', 'st24', 'st27']\n",
    "adatas = load_intermediate_files( '/work/Xenopus/Notebooks/V3/intermediate_files', 'zUMI_raw_singlets' , timepoints)\n",
    "counts = concat_for_harmony(adatas, timepoints)\n",
    "norm_df = harmony.utils.normalize_counts(counts)\n",
    "\n",
    "def adata_hvg(adata, N_genes = 1000):\n",
    "    print(adata.obs.stage[0])\n",
    "    counts = pd.DataFrame(data = adata.X.todense(), \n",
    "                          index = adata.obs_names,\n",
    "                          columns = adata.var_names)\n",
    "    norm_df = harmony.utils.normalize_counts(counts)\n",
    "    hvg_genes = harmony.utils.hvg_genes(norm_df, no_genes=N_genes)\n",
    "    return hvg_genes.tolist()\n",
    "\n",
    "def flatten(ls):\n",
    "    return [x for y in ls for x in y]\n",
    "#hvg_genes_per_data = list(set(flatten([adata_hvg(x, N_genes = 500) for x in adatas])))"
   ]
  },
  {
   "cell_type": "code",
   "execution_count": 3,
   "metadata": {},
   "outputs": [
    {
     "name": "stderr",
     "output_type": "stream",
     "text": [
      "/opt/conda/lib/python3.7/site-packages/ipykernel_launcher.py:24: DeprecationWarning: The default dtype for empty Series will be 'object' instead of 'float64' in a future version. Specify a dtype explicitly to silence this warning.\n"
     ]
    }
   ],
   "source": [
    "df = pd.read_csv('/work/Xenopus/Notebooks/V3/misc_files/XENLA_XenBase20190115_prot.txt', sep = '\\t', index_col = 0)\n",
    "mapper = {x:h for x,h in zip(df.index, df['Unnamed: 5'])}\n",
    "df_map = pd.DataFrame({'Data_name':counts.columns,\n",
    "              'Reduced_name': [x.split('|')[1] for x in counts.columns]\n",
    "             })\n",
    "df_map['Human_name'] = df_map.Reduced_name.map(mapper)\n",
    "mapper = {x:h for x, h in zip(df_map['Data_name'], df_map['Human_name'])}\n",
    "#norm_df = norm_df.loc[:,hvg_genes_per_data]\n",
    "norm_df.columns = [mapper[x] for x in norm_df.columns]\n",
    "counts = norm_df.T\n",
    "counts = counts[counts.index!= 'NoName']\n",
    "counts = counts[~counts.index.isna()]\n",
    "#counts = counts.reset_index().drop_duplicates(keep = 'first', subset='index').set_index('index')\n",
    "\n",
    "#counts = counts.T\n",
    "counts = counts.reset_index().groupby('index').mean()\n",
    "#counts = counts.T\n",
    "\n",
    "import pickle\n",
    "\n",
    "with open('/work/Xenopus/Notebooks/V3/intermediate_files/clusters', \"rb\") as f:\n",
    "    clusters = pickle.load( f)\n",
    "\n",
    "tp = pd.Series(index=norm_df.index)\n",
    "for t in timepoints:\n",
    "    cells = norm_df.index[norm_df.index.str.contains(t)]\n",
    "    tp[cells] = t\n",
    "    \n",
    "anno = pd.concat([clusters, tp], axis = 1)\n",
    "anno.columns = ['Clusters', 'Stage']    \n"
   ]
  },
  {
   "cell_type": "code",
   "execution_count": 4,
   "metadata": {},
   "outputs": [],
   "source": [
    "anno\n",
    "\n",
    "anno['Clusters'] = anno['Clusters'].map(str)\n",
    "anno['Cell-type'] = anno['Clusters'].map({ '7': 'P1','4': 'P2','0': 'Ep1' ,'2': 'Ep2','1': 'Ep3','5':'Ep4',   \n",
    "                                                              '14': 'Bc1','12': 'Bc2','6': 'Bc3','3' : 'Bc4',\n",
    "                                                              '9' : 'Mcc/CCPs','10' : 'Mcc2','13' : 'Mcc3',\n",
    "                                                              '11': 'Ic',\n",
    "                                                              '8': 'Gc' })\n",
    "anno['Dataset'] = 'In House'"
   ]
  },
  {
   "cell_type": "code",
   "execution_count": 5,
   "metadata": {},
   "outputs": [],
   "source": [
    "anno['Species'] = 'Xenopus'"
   ]
  },
  {
   "cell_type": "code",
   "execution_count": 6,
   "metadata": {},
   "outputs": [],
   "source": [
    "# Remove pluripotent"
   ]
  },
  {
   "cell_type": "code",
   "execution_count": 7,
   "metadata": {},
   "outputs": [],
   "source": [
    "#anno = anno[~anno['Cell-type'].str.startswith('P')]"
   ]
  },
  {
   "cell_type": "code",
   "execution_count": 8,
   "metadata": {},
   "outputs": [],
   "source": [
    "#counts = counts[anno.index]"
   ]
  },
  {
   "cell_type": "code",
   "execution_count": 9,
   "metadata": {},
   "outputs": [],
   "source": [
    "Pneuma_c = pd.read_csv('Garcia/Pneumacult_counts.tsv', sep = '\\t', index_col = 0).T"
   ]
  },
  {
   "cell_type": "code",
   "execution_count": 10,
   "metadata": {},
   "outputs": [],
   "source": [
    "Pneuma_m = pd.read_csv('Garcia/Pneumacult_meta.tsv', sep = '\\t', index_col = 0)"
   ]
  },
  {
   "cell_type": "code",
   "execution_count": 11,
   "metadata": {},
   "outputs": [],
   "source": [
    "Pneuma_m['Species'] = 'Human'"
   ]
  },
  {
   "cell_type": "code",
   "execution_count": 12,
   "metadata": {},
   "outputs": [],
   "source": [
    "begm_c = pd.read_csv('Garcia/BEGM_counts.tsv', sep = '\\t', index_col = 0).T"
   ]
  },
  {
   "cell_type": "code",
   "execution_count": 13,
   "metadata": {},
   "outputs": [],
   "source": [
    "begm_m = pd.read_csv('Garcia/BEGM_meta.tsv', sep = '\\t', index_col = 0)"
   ]
  },
  {
   "cell_type": "code",
   "execution_count": 14,
   "metadata": {},
   "outputs": [],
   "source": [
    "begm_m['Species'] = 'Human'"
   ]
  },
  {
   "cell_type": "code",
   "execution_count": 15,
   "metadata": {},
   "outputs": [],
   "source": [
    "#Filter undefined or unassigned celltypes"
   ]
  },
  {
   "cell_type": "code",
   "execution_count": 16,
   "metadata": {},
   "outputs": [
    {
     "data": {
      "text/plain": [
       "array(['Suprabasal', 'Cycling Basal', 'Basal', 'Secretory like', 'MCCs',\n",
       "       'Deuterosomal'], dtype=object)"
      ]
     },
     "execution_count": 16,
     "metadata": {},
     "output_type": "execute_result"
    }
   ],
   "source": [
    "begm_m = begm_m[~begm_m['Cell-type'].str.startswith('U')]\n",
    "begm_c = begm_c[begm_m.index]\n",
    "begm_m['Cell-type'].unique()"
   ]
  },
  {
   "cell_type": "code",
   "execution_count": 17,
   "metadata": {},
   "outputs": [],
   "source": [
    "Pneuma_m.Dataset = 'Garcia_pneuma'"
   ]
  },
  {
   "cell_type": "code",
   "execution_count": 18,
   "metadata": {},
   "outputs": [],
   "source": [
    "begm_m.Dataset = 'Garcia_begm'"
   ]
  },
  {
   "cell_type": "code",
   "execution_count": null,
   "metadata": {},
   "outputs": [],
   "source": []
  },
  {
   "cell_type": "code",
   "execution_count": 19,
   "metadata": {},
   "outputs": [],
   "source": [
    "jaffe_h_c = pd.read_csv('Jaffe/Jaffe_human_counts.tsv', sep = '\\t', index_col = 0)"
   ]
  },
  {
   "cell_type": "code",
   "execution_count": 20,
   "metadata": {},
   "outputs": [],
   "source": [
    "jaffe_h_m = pd.read_csv('Jaffe/Jaffe_human_meta.tsv', sep = '\\t', index_col = 0)"
   ]
  },
  {
   "cell_type": "code",
   "execution_count": 21,
   "metadata": {},
   "outputs": [],
   "source": [
    "jaffe_h_m['Species'] = 'Human'"
   ]
  },
  {
   "cell_type": "code",
   "execution_count": null,
   "metadata": {},
   "outputs": [],
   "source": []
  },
  {
   "cell_type": "code",
   "execution_count": 22,
   "metadata": {},
   "outputs": [],
   "source": [
    "jaffe_m_c = pd.read_csv('Jaffe/Jaffe_mouse_counts.tsv', sep = '\\t', index_col = 0)"
   ]
  },
  {
   "cell_type": "code",
   "execution_count": 23,
   "metadata": {},
   "outputs": [],
   "source": [
    "jaffe_m_m = pd.read_csv('Jaffe/Jaffe_mouse_meta.tsv', sep = '\\t', index_col = 0)"
   ]
  },
  {
   "cell_type": "code",
   "execution_count": 24,
   "metadata": {},
   "outputs": [],
   "source": [
    "jaffe_m_m['Species'] = 'Mouse'"
   ]
  },
  {
   "cell_type": "code",
   "execution_count": null,
   "metadata": {},
   "outputs": [],
   "source": []
  },
  {
   "cell_type": "code",
   "execution_count": 25,
   "metadata": {},
   "outputs": [],
   "source": [
    "treutlein_c = pd.read_csv('Truetlein/Treutlein_counts.tsv', sep = '\\t', index_col = 0)"
   ]
  },
  {
   "cell_type": "code",
   "execution_count": 26,
   "metadata": {},
   "outputs": [],
   "source": [
    "treutlein_m = pd.read_csv('Truetlein/Treutlein_meta.tsv', sep = '\\t', index_col = 0)"
   ]
  },
  {
   "cell_type": "code",
   "execution_count": 27,
   "metadata": {},
   "outputs": [],
   "source": [
    "treutlein_m['Species'] = 'Mouse'"
   ]
  },
  {
   "cell_type": "code",
   "execution_count": null,
   "metadata": {},
   "outputs": [],
   "source": []
  },
  {
   "cell_type": "code",
   "execution_count": 28,
   "metadata": {},
   "outputs": [],
   "source": [
    "rajagopal_c = pd.read_csv('Rajagopal/rajagopal_counts.tsv', sep = '\\t', index_col = 0)"
   ]
  },
  {
   "cell_type": "code",
   "execution_count": 29,
   "metadata": {},
   "outputs": [],
   "source": [
    "rajagopal_m = pd.read_csv('Rajagopal/rajagopal_meta.tsv', sep = '\\t', index_col = 0)"
   ]
  },
  {
   "cell_type": "code",
   "execution_count": 30,
   "metadata": {},
   "outputs": [],
   "source": [
    "rajagopal_m['Species'] = 'Mouse'"
   ]
  },
  {
   "cell_type": "code",
   "execution_count": null,
   "metadata": {},
   "outputs": [],
   "source": []
  },
  {
   "cell_type": "code",
   "execution_count": 31,
   "metadata": {},
   "outputs": [],
   "source": [
    "teich_c = pd.read_csv('Teichmann/Teichmann_counts.tsv', sep = '\\t', index_col = 0).T"
   ]
  },
  {
   "cell_type": "code",
   "execution_count": 32,
   "metadata": {},
   "outputs": [],
   "source": [
    "teich_m = pd.read_csv('Teichmann/Teichmann_meta.tsv', sep = '\\t', index_col = 0)"
   ]
  },
  {
   "cell_type": "code",
   "execution_count": 33,
   "metadata": {},
   "outputs": [],
   "source": [
    "teich_m['Species'] = 'Human'"
   ]
  },
  {
   "cell_type": "code",
   "execution_count": null,
   "metadata": {},
   "outputs": [],
   "source": []
  },
  {
   "cell_type": "code",
   "execution_count": 34,
   "metadata": {},
   "outputs": [],
   "source": [
    "shalek_c = pd.read_csv('Shalek/Shalek_counts.tsv', sep = '\\t', index_col = 0).T"
   ]
  },
  {
   "cell_type": "code",
   "execution_count": 35,
   "metadata": {},
   "outputs": [],
   "source": [
    "shalek_m = pd.read_csv('Shalek/Shalek_meta.tsv', sep = '\\t', index_col = 0)"
   ]
  },
  {
   "cell_type": "code",
   "execution_count": 36,
   "metadata": {},
   "outputs": [],
   "source": [
    "shalek_m['Species'] = 'Human'"
   ]
  },
  {
   "cell_type": "code",
   "execution_count": null,
   "metadata": {},
   "outputs": [],
   "source": []
  },
  {
   "cell_type": "code",
   "execution_count": 37,
   "metadata": {},
   "outputs": [],
   "source": [
    "aztekin_c = pd.read_csv('Aztekin/Aztekin_counts.tsv', sep = '\\t', index_col = 0)"
   ]
  },
  {
   "cell_type": "code",
   "execution_count": 38,
   "metadata": {},
   "outputs": [],
   "source": [
    "aztekin_m = pd.read_csv('Aztekin/Aztekin_meta.tsv', sep = '\\t', index_col = 0)"
   ]
  },
  {
   "cell_type": "code",
   "execution_count": 39,
   "metadata": {},
   "outputs": [],
   "source": [
    "aztekin_m['Species'] = 'Xenopus'"
   ]
  },
  {
   "cell_type": "code",
   "execution_count": null,
   "metadata": {},
   "outputs": [],
   "source": []
  },
  {
   "cell_type": "code",
   "execution_count": null,
   "metadata": {},
   "outputs": [],
   "source": []
  },
  {
   "cell_type": "code",
   "execution_count": 40,
   "metadata": {},
   "outputs": [],
   "source": [
    "klein_c = pd.read_csv('Klein/klein_nne_counts.tsv', sep = '\\t', index_col = 0).T"
   ]
  },
  {
   "cell_type": "code",
   "execution_count": 41,
   "metadata": {},
   "outputs": [],
   "source": [
    "klein_m = pd.read_csv('Klein/klein_nne_meta.tsv', sep = '\\t', index_col = 0)"
   ]
  },
  {
   "cell_type": "code",
   "execution_count": 42,
   "metadata": {},
   "outputs": [],
   "source": [
    "klein_m['Species'] = 'Xenopus'"
   ]
  },
  {
   "cell_type": "code",
   "execution_count": null,
   "metadata": {},
   "outputs": [],
   "source": []
  },
  {
   "cell_type": "markdown",
   "metadata": {},
   "source": [
    "## Multidataset correlation"
   ]
  },
  {
   "cell_type": "code",
   "execution_count": 45,
   "metadata": {},
   "outputs": [],
   "source": [
    "from EvoDevo import main "
   ]
  },
  {
   "cell_type": "code",
   "execution_count": 46,
   "metadata": {},
   "outputs": [
    {
     "name": "stdout",
     "output_type": "stream",
     "text": [
      "Doing DE round 0.0\n"
     ]
    },
    {
     "name": "stderr",
     "output_type": "stream",
     "text": [
      "/opt/conda/lib/python3.7/site-packages/anndata/_core/anndata.py:1192: FutureWarning: is_categorical is deprecated and will be removed in a future version.  Use is_categorical_dtype instead\n",
      "  if is_string_dtype(df[key]) and not is_categorical(df[key])\n",
      "... storing 'Clusters' as categorical\n",
      "... storing 'Stage' as categorical\n",
      "... storing 'Cell-type' as categorical\n",
      "... storing 'Dataset' as categorical\n"
     ]
    },
    {
     "name": "stdout",
     "output_type": "stream",
     "text": [
      "Doing DE round 0.1\n"
     ]
    },
    {
     "name": "stderr",
     "output_type": "stream",
     "text": [
      "/opt/conda/lib/python3.7/site-packages/anndata/_core/anndata.py:1192: FutureWarning: is_categorical is deprecated and will be removed in a future version.  Use is_categorical_dtype instead\n",
      "  if is_string_dtype(df[key]) and not is_categorical(df[key])\n",
      "... storing 'Cluster' as categorical\n",
      "... storing 'Dataset' as categorical\n",
      "... storing 'Timepoint' as categorical\n",
      "... storing 'type' as categorical\n",
      "... storing 'Species' as categorical\n",
      "... storing 'Cell-type' as categorical\n"
     ]
    },
    {
     "name": "stdout",
     "output_type": "stream",
     "text": [
      "Doing DE round 0.2\n"
     ]
    },
    {
     "name": "stderr",
     "output_type": "stream",
     "text": [
      "/opt/conda/lib/python3.7/site-packages/anndata/_core/anndata.py:1192: FutureWarning: is_categorical is deprecated and will be removed in a future version.  Use is_categorical_dtype instead\n",
      "  if is_string_dtype(df[key]) and not is_categorical(df[key])\n",
      "... storing 'Cluster' as categorical\n",
      "... storing 'Dataset' as categorical\n",
      "... storing 'Timepoint' as categorical\n",
      "... storing 'type' as categorical\n",
      "... storing 'Species' as categorical\n",
      "... storing 'Cell-type' as categorical\n"
     ]
    },
    {
     "name": "stdout",
     "output_type": "stream",
     "text": [
      "Doing DE round 0.3\n"
     ]
    },
    {
     "name": "stderr",
     "output_type": "stream",
     "text": [
      "/opt/conda/lib/python3.7/site-packages/anndata/_core/anndata.py:1192: FutureWarning: is_categorical is deprecated and will be removed in a future version.  Use is_categorical_dtype instead\n",
      "  if is_string_dtype(df[key]) and not is_categorical(df[key])\n",
      "... storing 'Cluster' as categorical\n",
      "... storing 'Donor' as categorical\n",
      "... storing 'Cell-type' as categorical\n",
      "... storing 'Dataset' as categorical\n"
     ]
    },
    {
     "name": "stdout",
     "output_type": "stream",
     "text": [
      "Doing DE round 0.4\n"
     ]
    },
    {
     "name": "stderr",
     "output_type": "stream",
     "text": [
      "/opt/conda/lib/python3.7/site-packages/anndata/_core/anndata.py:1192: FutureWarning: is_categorical is deprecated and will be removed in a future version.  Use is_categorical_dtype instead\n",
      "  if is_string_dtype(df[key]) and not is_categorical(df[key])\n",
      "... storing 'Cluster' as categorical\n",
      "... storing 'Individual library (may be several per mouse)' as categorical\n",
      "... storing 'Mouse' as categorical\n",
      "... storing 'Timepoint' as categorical\n",
      "... storing 'Cell-type' as categorical\n",
      "... storing 'Dataset' as categorical\n"
     ]
    },
    {
     "name": "stdout",
     "output_type": "stream",
     "text": [
      "Doing DE round 0.5\n"
     ]
    },
    {
     "name": "stderr",
     "output_type": "stream",
     "text": [
      "/opt/conda/lib/python3.7/site-packages/anndata/_core/anndata.py:1192: FutureWarning: is_categorical is deprecated and will be removed in a future version.  Use is_categorical_dtype instead\n",
      "  if is_string_dtype(df[key]) and not is_categorical(df[key])\n",
      "... storing 'time_point' as categorical\n",
      "... storing 'sample' as categorical\n",
      "... storing 'putative_cell_type' as categorical\n",
      "... storing 'Cell-type' as categorical\n",
      "... storing 'Dataset' as categorical\n"
     ]
    },
    {
     "name": "stdout",
     "output_type": "stream",
     "text": [
      "Doing DE round 0.6\n"
     ]
    },
    {
     "name": "stderr",
     "output_type": "stream",
     "text": [
      "/opt/conda/lib/python3.7/site-packages/anndata/_core/anndata.py:1192: FutureWarning: is_categorical is deprecated and will be removed in a future version.  Use is_categorical_dtype instead\n",
      "  if is_string_dtype(df[key]) and not is_categorical(df[key])\n",
      "... storing 'cluster' as categorical\n",
      "... storing 'mouse' as categorical\n",
      "... storing 'Cell-type' as categorical\n",
      "... storing 'Dataset' as categorical\n"
     ]
    },
    {
     "name": "stdout",
     "output_type": "stream",
     "text": [
      "Doing DE round 0.7\n"
     ]
    },
    {
     "name": "stderr",
     "output_type": "stream",
     "text": [
      "/opt/conda/lib/python3.7/site-packages/anndata/_core/anndata.py:1192: FutureWarning: is_categorical is deprecated and will be removed in a future version.  Use is_categorical_dtype instead\n",
      "  if is_string_dtype(df[key]) and not is_categorical(df[key])\n",
      "... storing 'orig.ident' as categorical\n",
      "... storing 'location' as categorical\n",
      "... storing 'celltype' as categorical\n",
      "... storing 'ID' as categorical\n",
      "... storing 'GEO_Sample' as categorical\n",
      "... storing 'Dataset' as categorical\n",
      "... storing 'Species' as categorical\n",
      "... storing 'Cell-type' as categorical\n"
     ]
    },
    {
     "name": "stdout",
     "output_type": "stream",
     "text": [
      "Doing DE round 0.8\n"
     ]
    },
    {
     "name": "stderr",
     "output_type": "stream",
     "text": [
      "/opt/conda/lib/python3.7/site-packages/anndata/_core/anndata.py:1192: FutureWarning: is_categorical is deprecated and will be removed in a future version.  Use is_categorical_dtype instead\n",
      "  if is_string_dtype(df[key]) and not is_categorical(df[key])\n",
      "... storing 'orig.ident' as categorical\n",
      "... storing 'diagnosis' as categorical\n",
      "... storing 'polyp' as categorical\n",
      "... storing 'subset' as categorical\n",
      "... storing 'Species' as categorical\n",
      "... storing 'Dataset' as categorical\n",
      "... storing 'Cell-type' as categorical\n"
     ]
    },
    {
     "name": "stdout",
     "output_type": "stream",
     "text": [
      "Doing DE round 0.9\n"
     ]
    },
    {
     "name": "stderr",
     "output_type": "stream",
     "text": [
      "/opt/conda/lib/python3.7/site-packages/anndata/_core/anndata.py:1192: FutureWarning: is_categorical is deprecated and will be removed in a future version.  Use is_categorical_dtype instead\n",
      "  if is_string_dtype(df[key]) and not is_categorical(df[key])\n",
      "... storing 'sample' as categorical\n",
      "... storing 'DevelopmentalStage' as categorical\n",
      "... storing 'cluster' as categorical\n",
      "... storing 'CellCyclePhase' as categorical\n",
      "... storing 'Dataset' as categorical\n",
      "... storing 'Cell-type' as categorical\n",
      "... storing 'Species' as categorical\n"
     ]
    },
    {
     "name": "stdout",
     "output_type": "stream",
     "text": [
      "Doing DE round 0.10\n"
     ]
    },
    {
     "name": "stderr",
     "output_type": "stream",
     "text": [
      "Observation names are not unique. To make them unique, call `.obs_names_make_unique`.\n",
      "/opt/conda/lib/python3.7/site-packages/anndata/_core/anndata.py:1192: FutureWarning: is_categorical is deprecated and will be removed in a future version.  Use is_categorical_dtype instead\n",
      "  if is_string_dtype(df[key]) and not is_categorical(df[key])\n",
      "... storing 'InDrops_version' as categorical\n",
      "... storing 'Replicate_name' as categorical\n",
      "... storing 'Clutch_name' as categorical\n",
      "... storing 'Library_name' as categorical\n",
      "... storing 'Barcode_name' as categorical\n",
      "... storing 'Developmental_stage' as categorical\n",
      "... storing 'Cluster_name' as categorical\n",
      "... storing 'Parent_cluster_name' as categorical\n",
      "... storing 'Dev_group' as categorical\n",
      "... storing 'Cell-type' as categorical\n",
      "... storing 'Dataset' as categorical\n",
      "... storing 'Species' as categorical\n"
     ]
    },
    {
     "name": "stdout",
     "output_type": "stream",
     "text": [
      "Doing DE round 1.0\n",
      "Doing DE round 1.1\n",
      "Doing DE round 1.2\n",
      "Doing DE round 1.3\n",
      "Doing DE round 1.4\n",
      "Doing DE round 1.5\n",
      "Doing DE round 1.6\n",
      "Doing DE round 1.7\n",
      "Doing DE round 1.8\n",
      "Doing DE round 1.9\n",
      "Doing DE round 1.10\n"
     ]
    },
    {
     "name": "stderr",
     "output_type": "stream",
     "text": [
      "Observation names are not unique. To make them unique, call `.obs_names_make_unique`.\n"
     ]
    },
    {
     "name": "stdout",
     "output_type": "stream",
     "text": [
      "Doing DE round 2.0\n",
      "Doing DE round 2.1\n",
      "Doing DE round 2.2\n",
      "Doing DE round 2.3\n",
      "Doing DE round 2.4\n",
      "Doing DE round 2.5\n",
      "Doing DE round 2.6\n",
      "Doing DE round 2.7\n",
      "Doing DE round 2.8\n",
      "Doing DE round 2.9\n",
      "Doing DE round 2.10\n"
     ]
    },
    {
     "name": "stderr",
     "output_type": "stream",
     "text": [
      "Observation names are not unique. To make them unique, call `.obs_names_make_unique`.\n"
     ]
    },
    {
     "name": "stdout",
     "output_type": "stream",
     "text": [
      "Doing DE round 3.0\n",
      "Doing DE round 3.1\n",
      "Doing DE round 3.2\n",
      "Doing DE round 3.3\n",
      "Doing DE round 3.4\n",
      "Doing DE round 3.5\n",
      "Doing DE round 3.6\n",
      "Doing DE round 3.7\n",
      "Doing DE round 3.8\n",
      "Doing DE round 3.9\n",
      "Doing DE round 3.10\n"
     ]
    },
    {
     "name": "stderr",
     "output_type": "stream",
     "text": [
      "Observation names are not unique. To make them unique, call `.obs_names_make_unique`.\n"
     ]
    },
    {
     "name": "stdout",
     "output_type": "stream",
     "text": [
      "Doing DE round 4.0\n",
      "Doing DE round 4.1\n",
      "Doing DE round 4.2\n",
      "Doing DE round 4.3\n",
      "Doing DE round 4.4\n",
      "Doing DE round 4.5\n",
      "Doing DE round 4.6\n",
      "Doing DE round 4.7\n",
      "Doing DE round 4.8\n",
      "Doing DE round 4.9\n",
      "Doing DE round 4.10\n"
     ]
    },
    {
     "name": "stderr",
     "output_type": "stream",
     "text": [
      "Observation names are not unique. To make them unique, call `.obs_names_make_unique`.\n"
     ]
    },
    {
     "name": "stdout",
     "output_type": "stream",
     "text": [
      "Doing DE round 5.0\n",
      "Doing DE round 5.1\n",
      "Doing DE round 5.2\n",
      "Doing DE round 5.3\n",
      "Doing DE round 5.4\n",
      "Doing DE round 5.5\n",
      "Doing DE round 5.6\n",
      "Doing DE round 5.7\n",
      "Doing DE round 5.8\n",
      "Doing DE round 5.9\n",
      "Doing DE round 5.10\n"
     ]
    },
    {
     "name": "stderr",
     "output_type": "stream",
     "text": [
      "Observation names are not unique. To make them unique, call `.obs_names_make_unique`.\n"
     ]
    },
    {
     "name": "stdout",
     "output_type": "stream",
     "text": [
      "Doing DE round 6.0\n",
      "Doing DE round 6.1\n",
      "Doing DE round 6.2\n",
      "Doing DE round 6.3\n",
      "Doing DE round 6.4\n",
      "Doing DE round 6.5\n",
      "Doing DE round 6.6\n",
      "Doing DE round 6.7\n",
      "Doing DE round 6.8\n",
      "Doing DE round 6.9\n",
      "Doing DE round 6.10\n"
     ]
    },
    {
     "name": "stderr",
     "output_type": "stream",
     "text": [
      "Observation names are not unique. To make them unique, call `.obs_names_make_unique`.\n"
     ]
    },
    {
     "name": "stdout",
     "output_type": "stream",
     "text": [
      "Doing DE round 7.0\n",
      "Doing DE round 7.1\n",
      "Doing DE round 7.2\n",
      "Doing DE round 7.3\n",
      "Doing DE round 7.4\n",
      "Doing DE round 7.5\n",
      "Doing DE round 7.6\n",
      "Doing DE round 7.7\n",
      "Doing DE round 7.8\n",
      "Doing DE round 7.9\n",
      "Doing DE round 7.10\n"
     ]
    },
    {
     "name": "stderr",
     "output_type": "stream",
     "text": [
      "Observation names are not unique. To make them unique, call `.obs_names_make_unique`.\n"
     ]
    },
    {
     "name": "stdout",
     "output_type": "stream",
     "text": [
      "Doing DE round 8.0\n",
      "Doing DE round 8.1\n",
      "Doing DE round 8.2\n",
      "Doing DE round 8.3\n",
      "Doing DE round 8.4\n",
      "Doing DE round 8.5\n",
      "Doing DE round 8.6\n",
      "Doing DE round 8.7\n",
      "Doing DE round 8.8\n",
      "Doing DE round 8.9\n",
      "Doing DE round 8.10\n"
     ]
    },
    {
     "name": "stderr",
     "output_type": "stream",
     "text": [
      "Observation names are not unique. To make them unique, call `.obs_names_make_unique`.\n"
     ]
    },
    {
     "name": "stdout",
     "output_type": "stream",
     "text": [
      "Doing DE round 9.0\n",
      "Doing DE round 9.1\n",
      "Doing DE round 9.2\n",
      "Doing DE round 9.3\n",
      "Doing DE round 9.4\n",
      "Doing DE round 9.5\n",
      "Doing DE round 9.6\n",
      "Doing DE round 9.7\n",
      "Doing DE round 9.8\n",
      "Doing DE round 9.9\n",
      "Doing DE round 9.10\n"
     ]
    },
    {
     "name": "stderr",
     "output_type": "stream",
     "text": [
      "Observation names are not unique. To make them unique, call `.obs_names_make_unique`.\n"
     ]
    },
    {
     "name": "stdout",
     "output_type": "stream",
     "text": [
      "Doing DE round 10.0\n"
     ]
    },
    {
     "name": "stderr",
     "output_type": "stream",
     "text": [
      "Observation names are not unique. To make them unique, call `.obs_names_make_unique`.\n"
     ]
    },
    {
     "name": "stdout",
     "output_type": "stream",
     "text": [
      "Doing DE round 10.1\n"
     ]
    },
    {
     "name": "stderr",
     "output_type": "stream",
     "text": [
      "Observation names are not unique. To make them unique, call `.obs_names_make_unique`.\n"
     ]
    },
    {
     "name": "stdout",
     "output_type": "stream",
     "text": [
      "Doing DE round 10.2\n"
     ]
    },
    {
     "name": "stderr",
     "output_type": "stream",
     "text": [
      "Observation names are not unique. To make them unique, call `.obs_names_make_unique`.\n"
     ]
    },
    {
     "name": "stdout",
     "output_type": "stream",
     "text": [
      "Doing DE round 10.3\n"
     ]
    },
    {
     "name": "stderr",
     "output_type": "stream",
     "text": [
      "Observation names are not unique. To make them unique, call `.obs_names_make_unique`.\n"
     ]
    },
    {
     "name": "stdout",
     "output_type": "stream",
     "text": [
      "Doing DE round 10.4\n"
     ]
    },
    {
     "name": "stderr",
     "output_type": "stream",
     "text": [
      "Observation names are not unique. To make them unique, call `.obs_names_make_unique`.\n"
     ]
    },
    {
     "name": "stdout",
     "output_type": "stream",
     "text": [
      "Doing DE round 10.5\n"
     ]
    },
    {
     "name": "stderr",
     "output_type": "stream",
     "text": [
      "Observation names are not unique. To make them unique, call `.obs_names_make_unique`.\n"
     ]
    },
    {
     "name": "stdout",
     "output_type": "stream",
     "text": [
      "Doing DE round 10.6\n"
     ]
    },
    {
     "name": "stderr",
     "output_type": "stream",
     "text": [
      "Observation names are not unique. To make them unique, call `.obs_names_make_unique`.\n"
     ]
    },
    {
     "name": "stdout",
     "output_type": "stream",
     "text": [
      "Doing DE round 10.7\n"
     ]
    },
    {
     "name": "stderr",
     "output_type": "stream",
     "text": [
      "Observation names are not unique. To make them unique, call `.obs_names_make_unique`.\n"
     ]
    },
    {
     "name": "stdout",
     "output_type": "stream",
     "text": [
      "Doing DE round 10.8\n"
     ]
    },
    {
     "name": "stderr",
     "output_type": "stream",
     "text": [
      "Observation names are not unique. To make them unique, call `.obs_names_make_unique`.\n"
     ]
    },
    {
     "name": "stdout",
     "output_type": "stream",
     "text": [
      "Doing DE round 10.9\n"
     ]
    },
    {
     "name": "stderr",
     "output_type": "stream",
     "text": [
      "Observation names are not unique. To make them unique, call `.obs_names_make_unique`.\n"
     ]
    },
    {
     "name": "stdout",
     "output_type": "stream",
     "text": [
      "Doing DE round 10.10\n"
     ]
    },
    {
     "name": "stderr",
     "output_type": "stream",
     "text": [
      "Observation names are not unique. To make them unique, call `.obs_names_make_unique`.\n",
      "Observation names are not unique. To make them unique, call `.obs_names_make_unique`.\n"
     ]
    }
   ],
   "source": [
    "spearman, de_genes = main([counts, Pneuma_c, begm_c, jaffe_h_c, jaffe_m_c, treutlein_c, rajagopal_c, teich_c, shalek_c, aztekin_c, klein_c],\n",
    "               [anno,   Pneuma_m, begm_m, jaffe_h_m, jaffe_m_m, treutlein_m, rajagopal_m, teich_m, shalek_m, aztekin_m, klein_m])"
   ]
  },
  {
   "cell_type": "code",
   "execution_count": null,
   "metadata": {},
   "outputs": [],
   "source": [
    "#spearman.to_csv('ct_correlation_complete.tsv', sep = '\\t')"
   ]
  },
  {
   "cell_type": "code",
   "execution_count": 45,
   "metadata": {},
   "outputs": [],
   "source": [
    "spearman = pd.read_csv('ct_correlation_complete.tsv', sep = '\\t', index_col = 0)"
   ]
  },
  {
   "cell_type": "code",
   "execution_count": 46,
   "metadata": {},
   "outputs": [],
   "source": [
    "counts_all = [counts, Pneuma_c, begm_c, jaffe_h_c, jaffe_m_c, treutlein_c, rajagopal_c, teich_c, shalek_c, aztekin_c, klein_c]\n",
    "metas_all =  [anno,   Pneuma_m, begm_m, jaffe_h_m, jaffe_m_m, treutlein_m, rajagopal_m, teich_m, shalek_m, aztekin_m, klein_m]    \n",
    "\n",
    "ls = []\n",
    "\n",
    "for i in range(len(counts_all)):\n",
    "    c = counts_all[i].T.copy()\n",
    "    m = metas_all[i].copy()\n",
    "    \n",
    "    c['Cell-type'] = m['Dataset'].astype(str) + '_' + m['Cell-type'].astype(str)\n",
    "    \n",
    "    mean = c.groupby('Cell-type').mean().T\n",
    "    glob_min = counts.mean(axis = 1)\n",
    "    \n",
    "    for col in mean.columns:\n",
    "        mean[col] = mean[col].div(glob_min, axis = 0)\n",
    "    \n",
    "    ls.append(mean)"
   ]
  },
  {
   "cell_type": "code",
   "execution_count": 47,
   "metadata": {},
   "outputs": [],
   "source": [
    "means = pd.concat(ls,axis = 1)"
   ]
  },
  {
   "cell_type": "raw",
   "metadata": {},
   "source": [
    "import pickle\n",
    "\n",
    "# create a binary pickle file \n",
    "f = open(\"de_genes.pkl\",\"wb\")\n",
    "pickle.dump(de_genes,f)"
   ]
  },
  {
   "cell_type": "code",
   "execution_count": 94,
   "metadata": {},
   "outputs": [],
   "source": [
    "f = open(\"de_genes.pkl\",\"rb\")\n",
    "de_genes = pickle.load(f)"
   ]
  },
  {
   "cell_type": "code",
   "execution_count": null,
   "metadata": {},
   "outputs": [],
   "source": []
  },
  {
   "cell_type": "code",
   "execution_count": 49,
   "metadata": {},
   "outputs": [],
   "source": [
    "for i in de_genes.keys():\n",
    "    de_genes[i] = len(de_genes[i])"
   ]
  },
  {
   "cell_type": "code",
   "execution_count": 50,
   "metadata": {},
   "outputs": [],
   "source": [
    "de = pd.DataFrame.from_dict(de_genes, columns = ['DE_genes'], orient='index').reset_index()"
   ]
  },
  {
   "cell_type": "code",
   "execution_count": 51,
   "metadata": {},
   "outputs": [
    {
     "data": {
      "text/html": [
       "<div>\n",
       "<style scoped>\n",
       "    .dataframe tbody tr th:only-of-type {\n",
       "        vertical-align: middle;\n",
       "    }\n",
       "\n",
       "    .dataframe tbody tr th {\n",
       "        vertical-align: top;\n",
       "    }\n",
       "\n",
       "    .dataframe thead th {\n",
       "        text-align: right;\n",
       "    }\n",
       "</style>\n",
       "<table border=\"1\" class=\"dataframe\">\n",
       "  <thead>\n",
       "    <tr style=\"text-align: right;\">\n",
       "      <th></th>\n",
       "      <th>ct</th>\n",
       "      <th>DE_genes</th>\n",
       "    </tr>\n",
       "  </thead>\n",
       "  <tbody>\n",
       "    <tr>\n",
       "      <th>0</th>\n",
       "      <td>In House_Bc1</td>\n",
       "      <td>1730</td>\n",
       "    </tr>\n",
       "    <tr>\n",
       "      <th>1</th>\n",
       "      <td>In House_Bc2</td>\n",
       "      <td>355</td>\n",
       "    </tr>\n",
       "    <tr>\n",
       "      <th>2</th>\n",
       "      <td>In House_Bc3</td>\n",
       "      <td>2066</td>\n",
       "    </tr>\n",
       "    <tr>\n",
       "      <th>3</th>\n",
       "      <td>In House_Bc4</td>\n",
       "      <td>756</td>\n",
       "    </tr>\n",
       "    <tr>\n",
       "      <th>4</th>\n",
       "      <td>In House_Ep1</td>\n",
       "      <td>3</td>\n",
       "    </tr>\n",
       "    <tr>\n",
       "      <th>...</th>\n",
       "      <td>...</td>\n",
       "      <td>...</td>\n",
       "    </tr>\n",
       "    <tr>\n",
       "      <th>154</th>\n",
       "      <td>Klein_placodal area</td>\n",
       "      <td>96</td>\n",
       "    </tr>\n",
       "    <tr>\n",
       "      <th>155</th>\n",
       "      <td>Klein_placodal neuron - eya2/neurog1/neurod1</td>\n",
       "      <td>1059</td>\n",
       "    </tr>\n",
       "    <tr>\n",
       "      <th>156</th>\n",
       "      <td>Klein_posterior placodal area</td>\n",
       "      <td>636</td>\n",
       "    </tr>\n",
       "    <tr>\n",
       "      <th>157</th>\n",
       "      <td>Klein_small secretory cells</td>\n",
       "      <td>967</td>\n",
       "    </tr>\n",
       "    <tr>\n",
       "      <th>158</th>\n",
       "      <td>Klein_trigeminal and profundal placodes</td>\n",
       "      <td>247</td>\n",
       "    </tr>\n",
       "  </tbody>\n",
       "</table>\n",
       "<p>159 rows × 2 columns</p>\n",
       "</div>"
      ],
      "text/plain": [
       "                                               ct  DE_genes\n",
       "0                                    In House_Bc1      1730\n",
       "1                                    In House_Bc2       355\n",
       "2                                    In House_Bc3      2066\n",
       "3                                    In House_Bc4       756\n",
       "4                                    In House_Ep1         3\n",
       "..                                            ...       ...\n",
       "154                           Klein_placodal area        96\n",
       "155  Klein_placodal neuron - eya2/neurog1/neurod1      1059\n",
       "156                 Klein_posterior placodal area       636\n",
       "157                   Klein_small secretory cells       967\n",
       "158       Klein_trigeminal and profundal placodes       247\n",
       "\n",
       "[159 rows x 2 columns]"
      ]
     },
     "execution_count": 51,
     "metadata": {},
     "output_type": "execute_result"
    }
   ],
   "source": [
    "de.columns = ['ct', 'DE_genes']\n",
    "de"
   ]
  },
  {
   "cell_type": "code",
   "execution_count": 172,
   "metadata": {},
   "outputs": [],
   "source": [
    "de.to_csv('DE_genes.tsv', sep = '\\t')"
   ]
  },
  {
   "cell_type": "code",
   "execution_count": null,
   "metadata": {},
   "outputs": [],
   "source": [
    "# Load clustering from circular dendrogram"
   ]
  },
  {
   "cell_type": "code",
   "execution_count": 56,
   "metadata": {},
   "outputs": [],
   "source": [
    "clust = pd.read_csv('Dendro_clusters.tsv', sep = '\\t', index_col = 0)"
   ]
  },
  {
   "cell_type": "code",
   "execution_count": null,
   "metadata": {},
   "outputs": [],
   "source": []
  },
  {
   "cell_type": "code",
   "execution_count": 104,
   "metadata": {},
   "outputs": [],
   "source": [
    "bc = clust[(clust.clus == 1 )| (clust.clus == 5)]\n",
    "ls_de = []\n",
    "for i in bc.index:\n",
    "    ls_de.extend(de_genes[i])\n",
    "bc_genes = pd.Series(ls_de).value_counts()[pd.Series(ls_de).value_counts() > len(bc) / 5].index.tolist()"
   ]
  },
  {
   "cell_type": "code",
   "execution_count": null,
   "metadata": {},
   "outputs": [],
   "source": []
  },
  {
   "cell_type": "code",
   "execution_count": 105,
   "metadata": {},
   "outputs": [],
   "source": [
    "mcc = clust[(clust.clus == 4 )| (clust.clus == 7)]\n",
    "ls_de = []\n",
    "for i in mcc.index:\n",
    "    ls_de.extend(de_genes[i])\n",
    "mcc_genes = pd.Series(ls_de).value_counts()[pd.Series(ls_de).value_counts() > len(mcc) / 5].index.tolist()"
   ]
  },
  {
   "cell_type": "code",
   "execution_count": 106,
   "metadata": {},
   "outputs": [],
   "source": [
    "sec = clust[(clust.clus == 3 ) | (clust.clus == 6) | (clust.clus == 8)]\n",
    "ls_de = []\n",
    "for i in sec.index:\n",
    "    ls_de.extend(de_genes[i])\n",
    "sec_genes = pd.Series(ls_de).value_counts()[pd.Series(ls_de).value_counts() > len(sec) / 5\n",
    "                                           ].index.tolist()"
   ]
  },
  {
   "cell_type": "code",
   "execution_count": null,
   "metadata": {},
   "outputs": [],
   "source": []
  },
  {
   "cell_type": "code",
   "execution_count": 107,
   "metadata": {},
   "outputs": [],
   "source": [
    "bc_genes_clean = list(set(bc_genes) - (set(bc_genes) & set(mcc_genes) | (set(bc_genes) & set(sec_genes))))\n",
    "                 \n",
    "mcc_genes_clean = list(set(mcc_genes) - (set(mcc_genes) & set(sec_genes) | (set(mcc_genes) & set(bc_genes))))\n",
    "\n",
    "sec_genes_clean = list(set(sec_genes) - (set(sec_genes) & set(mcc_genes) | (set(sec_genes) & set(bc_genes))))"
   ]
  },
  {
   "cell_type": "code",
   "execution_count": 109,
   "metadata": {},
   "outputs": [],
   "source": [
    "means = means.div(means.sum()) * 10000 "
   ]
  },
  {
   "cell_type": "code",
   "execution_count": 110,
   "metadata": {},
   "outputs": [],
   "source": [
    "means.replace(0, np.NaN, inplace = True)"
   ]
  },
  {
   "cell_type": "code",
   "execution_count": 111,
   "metadata": {},
   "outputs": [],
   "source": [
    "merge_anno = pd.concat([anno,   Pneuma_m, begm_m, jaffe_h_m, jaffe_m_m, treutlein_m, rajagopal_m, teich_m, shalek_m, aztekin_m, klein_m], axis = 0)"
   ]
  },
  {
   "cell_type": "code",
   "execution_count": 112,
   "metadata": {},
   "outputs": [],
   "source": [
    "spec_mapper = {x[0]:x[1] for x in merge_anno.groupby(['Dataset', 'Species']).count().index}"
   ]
  },
  {
   "cell_type": "code",
   "execution_count": 113,
   "metadata": {},
   "outputs": [],
   "source": [
    "mapper = {1:'BCs',\n",
    "          2:'EPs',\n",
    "          3:'Secretory',\n",
    "          4:'MCCs',\n",
    "          5:'BCs',\n",
    "          6:'Secretory',\n",
    "          7:'MCCs',\n",
    "          8:'Secretory',\n",
    "          9:'Other',\n",
    "          10:'Other', \n",
    "          11:'Other'}\n"
   ]
  },
  {
   "cell_type": "code",
   "execution_count": 118,
   "metadata": {},
   "outputs": [],
   "source": [
    "#Cell type colors from integrated annotation\n",
    "colors = [\n",
    "[(0.3388235294117647, 0.7117262591311034, 0.40584390618992694),0, 2],\n",
    "[(0.7371472510572856, 0.895517108804306, 0.7108342945021145),1, 4],\n",
    "[(0.5573241061130334, 0.8164244521337947, 0.546958861976163),2, 3],\n",
    "[(0.7364705882352941, 0.08, 0.10117647058823528),3, 9],\n",
    "[(0.7777777777777778, 0.7777777777777778, 0.7777777777777778),4, 1],\n",
    "[(0.8828143021914648, 0.9546943483275664, 0.8621914648212226),5, 5],\n",
    "[(0.9466666666666667, 0.26823529411764707, 0.19607843137254902),6, 8],\n",
    "[(0.586082276047674, 0.586082276047674, 0.586082276047674),7, 0],\n",
    "[(0.996078431372549, 0.8091503267973856, 0.39607843137254906),8, 14],\n",
    "[(0.7752402921953095, 0.8583006535947711, 0.9368242983467897),9, 10],\n",
    "[(0.41708573625528644, 0.6806305267204922, 0.8382314494425221),10, 11],\n",
    "[(0.5513264129181085, 0.537916186082276, 0.7524490580545944),11, 13],\n",
    "[(0.9874509803921568, 0.5411764705882353, 0.41568627450980394),12, 7],\n",
    "[(0.1271049596309112, 0.4401845444059977, 0.7074971164936563),13, 12],\n",
    "[(0.9913725490196079, 0.7913725490196079, 0.7082352941176471),14, 6]]\n",
    "colors = pd.DataFrame(colors, columns = ['color', 'org_clust', 'clust_order'])\n",
    "\n"
   ]
  },
  {
   "cell_type": "code",
   "execution_count": 140,
   "metadata": {},
   "outputs": [],
   "source": [
    "df = pd.concat([bsc, mcc, sec], axis = 1)\n",
    "df.columns = ['Basal cells', 'Cilliated cells', 'Secretory cells']"
   ]
  },
  {
   "cell_type": "code",
   "execution_count": 141,
   "metadata": {},
   "outputs": [],
   "source": [
    "df = df.div(df.sum( axis = 1),axis = 0) * 100"
   ]
  },
  {
   "cell_type": "code",
   "execution_count": 142,
   "metadata": {},
   "outputs": [],
   "source": [
    "df['Group'] = test.Type\n",
    "df['Species'] = test.Species"
   ]
  },
  {
   "cell_type": "code",
   "execution_count": 143,
   "metadata": {},
   "outputs": [],
   "source": [
    "df.to_csv('ternary_temp.txt', sep = '\\t')\n",
    "#df = pd.read_csv('ternary_temp.txt', sep = '\\t', index_col = 0)"
   ]
  },
  {
   "cell_type": "code",
   "execution_count": 123,
   "metadata": {},
   "outputs": [],
   "source": [
    "m = df[df.Group == 'MCCs']"
   ]
  },
  {
   "cell_type": "code",
   "execution_count": null,
   "metadata": {},
   "outputs": [],
   "source": [
    "spec_map = {'Xenopus':'o', 'Mouse':'*', 'Human':'+'}\n",
    "col_map = {'MCCs':13, 'Secretory':8, 'BCs':3, 'EPs':0}"
   ]
  },
  {
   "cell_type": "code",
   "execution_count": null,
   "metadata": {},
   "outputs": [],
   "source": [
    "import ternary\n",
    "spec_map = {'Xenopus':'o', 'Mouse':'*', 'Human':'+'}\n",
    "col_map = {'MCCs':13, 'Secretory':8, 'BCs':3, 'EPs':0}\n",
    "\n",
    "fig, tax = ternary.figure(scale=100)\n",
    "fig.set_size_inches(6, 6)\n",
    "\n",
    "#tax.scatter(df[['Basal cells', 'Cilliated cells', 'Secretory cells']].values, color='Grey')\n",
    "\n",
    "for i in df.Species.unique(): \n",
    "    df_sub_test = df[df.Species == i]\n",
    "    for j in df_sub_test.Group.unique():\n",
    "        if j == 'Other':\n",
    "            pass\n",
    "        else:\n",
    "            tax.scatter(df_sub_test[df_sub_test.Group == j].values, color=colors.iloc[col_map[j]].color, label=j + ' ' + i , s = 50, marker = spec_map[i])\n",
    "        #tax.scatter(df_sub_test[df_sub_test.Group == 'Secretory'].values,  color = colors.iloc[8].color, label=\"Secretory\", s = 50, marker = spec_map[i])\n",
    "        #tax.scatter(df_sub_test[df_sub_test.Group == 'BCs'].values, color = colors.iloc[3].color, label=\"BCs\", s = 50, marker = spec_map[i])\n",
    "        #tax.scatter(df_sub_test[df_sub_test.Group == 'EPs'].values, color = colors.iloc[0].color, label=\"EPs\", s = 50, marker = spec_map[i])\n",
    "\n",
    "#tax.gridlines(multiple=60)\n",
    "p1 = (50, 0, 0)\n",
    "p2 = (100/3, 100/3, 100/3)\n",
    "tax.line(p1, p2, linewidth=3., color='Grey', alpha = 0.1)\n",
    "p1 = (0, 50, 0)\n",
    "p2 = (100/3, 100/3, 100/3)\n",
    "tax.line(p1, p2, linewidth=3., color='Grey', alpha = 0.1)\n",
    "\n",
    "p1 = (50, 50, 0)\n",
    "p2 = (100/3, 100/3, 100/3)\n",
    "tax.line(p1, p2, linewidth=3., color='Grey', alpha = 0.1)\n",
    "tax.get_axes().axis('off')\n",
    "tax.ticks(axis='lbr', linewidth=1, multiple=50)\n",
    "\n",
    "tax.legend(loc = 'upper right', frameon=False, bbox_to_anchor=(1.1, 1.1))\n",
    "tax.left_axis_label(\"Secretory score\", offset=0.14,fontsize = 14)\n",
    "tax.right_axis_label(\"Mcc score\", offset=0.14)\n",
    "tax.bottom_axis_label(\"Basal score\", offset=0.14)\n",
    "\n",
    "\n",
    "plt.savefig('Figures2/ternary.pdf')\n"
   ]
  },
  {
   "cell_type": "code",
   "execution_count": 147,
   "metadata": {},
   "outputs": [],
   "source": [
    "bc_score.score  = bc_score.score / bc_score.score.mean()# *100\n",
    "mcc_score.score  = mcc_score.score / mcc_score.score.mean()# *100\n",
    "sec_score.score  = sec_score.score / sec_score.score.mean() #*100"
   ]
  },
  {
   "cell_type": "code",
   "execution_count": 149,
   "metadata": {},
   "outputs": [],
   "source": [
    "test = pd.concat([bc_score['score'], mcc_score['score'], sec_score['score']], axis = 1)\n",
    "test = test.div(test.mean(axis = 1),axis = 0)\n",
    "bc_score.score = test.iloc[:,0]\n",
    "mcc_score.score = test.iloc[:,1]\n",
    "sec_score.score = test.iloc[:,2]"
   ]
  },
  {
   "cell_type": "code",
   "execution_count": 150,
   "metadata": {},
   "outputs": [
    {
     "data": {
      "text/html": [
       "<div>\n",
       "<style scoped>\n",
       "    .dataframe tbody tr th:only-of-type {\n",
       "        vertical-align: middle;\n",
       "    }\n",
       "\n",
       "    .dataframe tbody tr th {\n",
       "        vertical-align: top;\n",
       "    }\n",
       "\n",
       "    .dataframe thead th {\n",
       "        text-align: right;\n",
       "    }\n",
       "</style>\n",
       "<table border=\"1\" class=\"dataframe\">\n",
       "  <thead>\n",
       "    <tr style=\"text-align: right;\">\n",
       "      <th></th>\n",
       "      <th>ID</th>\n",
       "      <th>score</th>\n",
       "      <th>group</th>\n",
       "      <th>score_type</th>\n",
       "    </tr>\n",
       "  </thead>\n",
       "  <tbody>\n",
       "    <tr>\n",
       "      <th>0</th>\n",
       "      <td>Jaffe_mouse_Brush</td>\n",
       "      <td>1.344669</td>\n",
       "      <td>Secretory</td>\n",
       "      <td>BCs</td>\n",
       "    </tr>\n",
       "    <tr>\n",
       "      <th>1</th>\n",
       "      <td>Jaffe_mouse_Basal</td>\n",
       "      <td>0.882509</td>\n",
       "      <td>BCs</td>\n",
       "      <td>BCs</td>\n",
       "    </tr>\n",
       "    <tr>\n",
       "      <th>2</th>\n",
       "      <td>Jaffe_mouse_Cycling Basal (homeostasis)</td>\n",
       "      <td>1.012847</td>\n",
       "      <td>BCs</td>\n",
       "      <td>BCs</td>\n",
       "    </tr>\n",
       "    <tr>\n",
       "      <th>3</th>\n",
       "      <td>Jaffe_mouse_Cycling Basal (regeneration)</td>\n",
       "      <td>1.240440</td>\n",
       "      <td>BCs</td>\n",
       "      <td>BCs</td>\n",
       "    </tr>\n",
       "    <tr>\n",
       "      <th>4</th>\n",
       "      <td>Shalek_Fibroblast</td>\n",
       "      <td>2.555109</td>\n",
       "      <td>BCs</td>\n",
       "      <td>BCs</td>\n",
       "    </tr>\n",
       "    <tr>\n",
       "      <th>...</th>\n",
       "      <td>...</td>\n",
       "      <td>...</td>\n",
       "      <td>...</td>\n",
       "      <td>...</td>\n",
       "    </tr>\n",
       "    <tr>\n",
       "      <th>472</th>\n",
       "      <td>0</td>\n",
       "      <td>0.000000</td>\n",
       "      <td>Other</td>\n",
       "      <td>0</td>\n",
       "    </tr>\n",
       "    <tr>\n",
       "      <th>473</th>\n",
       "      <td>In House_Ep2</td>\n",
       "      <td>1.093940</td>\n",
       "      <td>EPs</td>\n",
       "      <td>Secretory</td>\n",
       "    </tr>\n",
       "    <tr>\n",
       "      <th>474</th>\n",
       "      <td>In House_Ep1</td>\n",
       "      <td>1.009222</td>\n",
       "      <td>EPs</td>\n",
       "      <td>Secretory</td>\n",
       "    </tr>\n",
       "    <tr>\n",
       "      <th>475</th>\n",
       "      <td>0</td>\n",
       "      <td>0.000000</td>\n",
       "      <td>Other</td>\n",
       "      <td>0</td>\n",
       "    </tr>\n",
       "    <tr>\n",
       "      <th>476</th>\n",
       "      <td>In House_Bc1</td>\n",
       "      <td>0.362900</td>\n",
       "      <td>BCs</td>\n",
       "      <td>Secretory</td>\n",
       "    </tr>\n",
       "  </tbody>\n",
       "</table>\n",
       "<p>477 rows × 4 columns</p>\n",
       "</div>"
      ],
      "text/plain": [
       "                                           ID     score      group score_type\n",
       "0                           Jaffe_mouse_Brush  1.344669  Secretory        BCs\n",
       "1                           Jaffe_mouse_Basal  0.882509        BCs        BCs\n",
       "2     Jaffe_mouse_Cycling Basal (homeostasis)  1.012847        BCs        BCs\n",
       "3    Jaffe_mouse_Cycling Basal (regeneration)  1.240440        BCs        BCs\n",
       "4                           Shalek_Fibroblast  2.555109        BCs        BCs\n",
       "..                                        ...       ...        ...        ...\n",
       "472                                         0  0.000000      Other          0\n",
       "473                              In House_Ep2  1.093940        EPs  Secretory\n",
       "474                              In House_Ep1  1.009222        EPs  Secretory\n",
       "475                                         0  0.000000      Other          0\n",
       "476                              In House_Bc1  0.362900        BCs  Secretory\n",
       "\n",
       "[477 rows x 4 columns]"
      ]
     },
     "execution_count": 150,
     "metadata": {},
     "output_type": "execute_result"
    }
   ],
   "source": [
    "scores = pd.concat([bc_score, mcc_score, sec_score], axis = 0).reset_index()\n",
    "scores.columns = ['ID', 'score', 'group', 'score_type']\n",
    "scores.loc[scores.group == 'Other'] = 0\n",
    "scores.group.replace(0, 'Other', inplace = True)\n",
    "scores.to_csv('scores.tsv', sep = '\\t')\n",
    "scores"
   ]
  },
  {
   "cell_type": "code",
   "execution_count": null,
   "metadata": {},
   "outputs": [],
   "source": []
  },
  {
   "cell_type": "code",
   "execution_count": null,
   "metadata": {},
   "outputs": [],
   "source": []
  },
  {
   "cell_type": "code",
   "execution_count": null,
   "metadata": {},
   "outputs": [],
   "source": []
  },
  {
   "cell_type": "code",
   "execution_count": null,
   "metadata": {},
   "outputs": [],
   "source": []
  },
  {
   "cell_type": "code",
   "execution_count": null,
   "metadata": {},
   "outputs": [],
   "source": []
  },
  {
   "cell_type": "code",
   "execution_count": null,
   "metadata": {},
   "outputs": [],
   "source": []
  },
  {
   "cell_type": "code",
   "execution_count": 137,
   "metadata": {},
   "outputs": [
    {
     "data": {
      "image/png": "[encoded data removed]",
      "text/plain": [
       "<Figure size 720x720 with 4 Axes>"
      ]
     },
     "metadata": {
      "needs_background": "light"
     },
     "output_type": "display_data"
    }
   ],
   "source": [
    "sns.clustermap(pd.read_csv('mcc.tsv', sep = '\\t'), cmap = 'RdBu_r')\n",
    "plt.savefig('Figures2/mcc_clustermap.pdf')"
   ]
  },
  {
   "cell_type": "code",
   "execution_count": 138,
   "metadata": {},
   "outputs": [
    {
     "data": {
      "image/png": "[encoded data removed]",
      "text/plain": [
       "<Figure size 720x720 with 4 Axes>"
      ]
     },
     "metadata": {
      "needs_background": "light"
     },
     "output_type": "display_data"
    }
   ],
   "source": [
    "sns.clustermap(pd.read_csv('secretory.tsv', sep = '\\t'), cmap = 'RdBu_r')\n",
    "plt.savefig('Figures2/secretory_clustermap.pdf')"
   ]
  },
  {
   "cell_type": "code",
   "execution_count": 139,
   "metadata": {},
   "outputs": [
    {
     "data": {
      "image/png": "[encoded data removed]",
      "text/plain": [
       "<Figure size 720x720 with 4 Axes>"
      ]
     },
     "metadata": {
      "needs_background": "light"
     },
     "output_type": "display_data"
    }
   ],
   "source": [
    "sns.clustermap(pd.read_csv('basal.tsv', sep = '\\t'), cmap = 'RdBu_r')\n",
    "plt.savefig('Figures2/basal_clustermap.pdf')"
   ]
  },
  {
   "cell_type": "code",
   "execution_count": null,
   "metadata": {},
   "outputs": [],
   "source": []
  },
  {
   "cell_type": "code",
   "execution_count": null,
   "metadata": {},
   "outputs": [],
   "source": []
  }
 ],
 "metadata": {
  "kernelspec": {
   "display_name": "Python 3 (ipykernel)",
   "language": "python",
   "name": "python3"
  },
  "language_info": {
   "codemirror_mode": {
    "name": "ipython",
    "version": 3
   },
   "file_extension": ".py",
   "mimetype": "text/x-python",
   "name": "python",
   "nbconvert_exporter": "python",
   "pygments_lexer": "ipython3",
   "version": "3.9.5"
  }
 },
 "nbformat": 4,
 "nbformat_minor": 4
}
