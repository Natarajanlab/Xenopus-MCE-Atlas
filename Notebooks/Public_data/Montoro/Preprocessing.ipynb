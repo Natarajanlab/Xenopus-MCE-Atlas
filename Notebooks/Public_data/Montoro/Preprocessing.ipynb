{
 "cells": [
  {
   "cell_type": "code",
   "execution_count": 1,
   "metadata": {},
   "outputs": [
    {
     "name": "stderr",
     "output_type": "stream",
     "text": [
      "findfont: Font family ['Raleway'] not found. Falling back to DejaVu Sans.\n",
      "findfont: Font family ['Lato'] not found. Falling back to DejaVu Sans.\n"
     ]
    }
   ],
   "source": [
    "import scanpy as sc\n",
    "import pandas as pd\n",
    "import numpy as np\n",
    "import seaborn as sns\n",
    "import matplotlib.pyplot as plt\n",
    "#import scvelo as scv\n",
    "from scipy import stats\n",
    "import os\n",
    "import matplotlib\n",
    "import pickle\n",
    "%matplotlib inline\n",
    "import palantir\n",
    "import harmony\n",
    "\n",
    "import random\n",
    "np.random.seed(0)\n",
    "random.seed(0)"
   ]
  },
  {
   "cell_type": "markdown",
   "metadata": {},
   "source": [
    "# Trachea DE"
   ]
  },
  {
   "cell_type": "code",
   "execution_count": 2,
   "metadata": {},
   "outputs": [],
   "source": [
    "trachea = pd.read_csv('trachea_10x_log2TPM.txt', '\\t', index_col = 0)\n",
    "meta = pd.read_csv('trachea_10x_metadata.txt', '\\t', index_col = 0)\n",
    "meta.drop('TYPE', inplace = True)\n",
    "trachea = trachea.T\n",
    "trachea = (2**trachea) - 1\n",
    "trachea = harmony.utils.normalize_counts(trachea)\n",
    "\n"
   ]
  },
  {
   "cell_type": "code",
   "execution_count": 3,
   "metadata": {},
   "outputs": [],
   "source": [
    "h_m_mapper = pd.read_csv('../mouse_human_map.txt', sep = '\\t', index_col = 1)['Gene name'].to_dict()\n",
    "trachea_human = trachea.copy()\n",
    "trachea_human.columns = trachea_human.columns.map(h_m_mapper)\n",
    "trachea_human = trachea_human.loc[:,~trachea_human.columns.isna()]"
   ]
  },
  {
   "cell_type": "code",
   "execution_count": 4,
   "metadata": {},
   "outputs": [
    {
     "data": {
      "text/plain": [
       "(7193, 27716)"
      ]
     },
     "execution_count": 4,
     "metadata": {},
     "output_type": "execute_result"
    }
   ],
   "source": [
    "trachea.shape"
   ]
  },
  {
   "cell_type": "code",
   "execution_count": 5,
   "metadata": {},
   "outputs": [],
   "source": [
    "trachea_human = trachea_human.T\n",
    "#trachea_human = trachea_human.reset_index().groupby('GENE').mean()\n",
    "trachea_human = trachea_human[~trachea_human.index.duplicated(keep='first')]\n",
    "trachea_human = trachea_human.T"
   ]
  },
  {
   "cell_type": "code",
   "execution_count": 9,
   "metadata": {},
   "outputs": [],
   "source": [
    "trachea_human\n",
    "trachea_human.T.to_csv('rajagopal_counts.tsv', sep = '\\t')"
   ]
  },
  {
   "cell_type": "code",
   "execution_count": 8,
   "metadata": {},
   "outputs": [],
   "source": [
    "meta['Cell-type'] = meta['cluster']\n",
    "meta['Dataset'] = 'Rajagopal_mouse'\n",
    "meta.to_csv('rajagopal_meta.tsv', sep = '\\t')"
   ]
  }
 ],
 "metadata": {
  "kernelspec": {
   "display_name": "Python 3 (ipykernel)",
   "language": "python",
   "name": "python3"
  },
  "language_info": {
   "codemirror_mode": {
    "name": "ipython",
    "version": 3
   },
   "file_extension": ".py",
   "mimetype": "text/x-python",
   "name": "python",
   "nbconvert_exporter": "python",
   "pygments_lexer": "ipython3",
   "version": "3.9.5"
  }
 },
 "nbformat": 4,
 "nbformat_minor": 4
}
