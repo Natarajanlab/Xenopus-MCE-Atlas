{
 "cells": [
  {
   "cell_type": "code",
   "execution_count": 1,
   "metadata": {},
   "outputs": [],
   "source": [
    "orgDB = \"org.Hs.eg\"\n",
    "dataset=\"mmusculus_gene_ensembl\"\n",
    "genome=\"mm10\"\n",
    "species=\"mmu\"\n",
    "common_name=\"mouse\""
   ]
  },
  {
   "cell_type": "code",
   "execution_count": 4,
   "metadata": {},
   "outputs": [],
   "source": [
    "require(paste0(orgDB,\".db\"), character.only = TRUE) \n",
    "require(clusterProfiler)\n",
    "require(ggplot2)\n",
    "#BiocManager::install(\"pathview\", version = \"3.8\")\n",
    "library(pathview)\n",
    "#BiocManager::install(\"DOSE\", version = \"3.8\")\n",
    "library(DOSE)"
   ]
  },
  {
   "cell_type": "code",
   "execution_count": 5,
   "metadata": {},
   "outputs": [],
   "source": [
    "# read in differential expression data\n",
    "c7 <- read.delim(\"/work/Xenopus/Notebooks/V2/Heatmap_markers/human_heatmap_markers_7.tsv\", header = FALSE, sep=\"\\t\")\n",
    "c4 <- read.delim(\"/work/Xenopus/Notebooks/V2/Heatmap_markers/human_heatmap_markers_4.tsv\", header = TRUE, sep=\"\\t\")\n",
    "c0 <- read.delim(\"/work/Xenopus/Notebooks/V2/Heatmap_markers/human_heatmap_markers_0.tsv\", header = TRUE, sep=\"\\t\")\n",
    "c2 <- read.delim(\"/work/Xenopus/Notebooks/V2/Heatmap_markers/human_heatmap_markers_2.tsv\", header = TRUE, sep=\"\\t\")\n",
    "c1 <- read.delim(\"/work/Xenopus/Notebooks/V2/Heatmap_markers/human_heatmap_markers_1.tsv\", header = TRUE, sep=\"\\t\")\n",
    "c5 <- read.delim(\"/work/Xenopus/Notebooks/V2/Heatmap_markers/human_heatmap_markers_5.tsv\", header = TRUE, sep=\"\\t\")\n",
    "c14 <- read.delim(\"/work/Xenopus/Notebooks/V2/Heatmap_markers/human_heatmap_markers_14.tsv\", header = TRUE, sep=\"\\t\")\n",
    "c12 <- read.delim(\"/work/Xenopus/Notebooks/V2/Heatmap_markers/human_heatmap_markers_12.tsv\", header = TRUE, sep=\"\\t\")\n",
    "c6 <- read.delim(\"/work/Xenopus/Notebooks/V2/Heatmap_markers/human_heatmap_markers_6.tsv\", header = TRUE, sep=\"\\t\")\n",
    "c3 <- read.delim(\"/work/Xenopus/Notebooks/V2/Heatmap_markers/human_heatmap_markers_3.tsv\", header = TRUE,sep=\"\\t\")\n",
    "c9 <- read.delim(\"/work/Xenopus/Notebooks/V2/Heatmap_markers/human_heatmap_markers_9.tsv\", header = TRUE, sep=\"\\t\")\n",
    "c10 <- read.delim(\"/work/Xenopus/Notebooks/V2/Heatmap_markers/human_heatmap_markers_10.tsv\", header = TRUE, sep=\"\\t\")\n",
    "c13 <- read.delim(\"/work/Xenopus/Notebooks/V2/Heatmap_markers/human_heatmap_markers_13.tsv\", header = TRUE, sep=\"\\t\")\n",
    "c11 <- read.delim(\"/work/Xenopus/Notebooks/V2/Heatmap_markers/human_heatmap_markers_11.tsv\", header = TRUE, sep=\"\\t\")\n",
    "c8 <- read.delim(\"/work/Xenopus/Notebooks/V2/Heatmap_markers/human_heatmap_markers_8.tsv\", header = TRUE, sep=\"\\t\")\n",
    "background <- read.delim(\"/work/Xenopus/Notebooks/V2/Heatmap_markers/background.tsv\", header = TRUE, sep=\"\\t\")"
   ]
  },
  {
   "cell_type": "code",
   "execution_count": 10,
   "metadata": {},
   "outputs": [],
   "source": [
    "st08 <- read.delim(\"/work/Xenopus/Notebooks/V2/Heatmap_markers/human_heatmap_markers_st08.tsv\", header = FALSE, sep=\"\\t\")\n",
    "st10 <- read.delim(\"/work/Xenopus/Notebooks/V2/Heatmap_markers/human_heatmap_markers_st10.5.tsv\", header = TRUE, sep=\"\\t\")\n",
    "st12 <- read.delim(\"/work/Xenopus/Notebooks/V2/Heatmap_markers/human_heatmap_markers_st12.tsv\", header = TRUE, sep=\"\\t\")\n",
    "st13 <- read.delim(\"/work/Xenopus/Notebooks/V2/Heatmap_markers/human_heatmap_markers_st13.tsv\", header = TRUE, sep=\"\\t\")\n",
    "st16 <- read.delim(\"/work/Xenopus/Notebooks/V2/Heatmap_markers/human_heatmap_markers_st16.tsv\", header = TRUE, sep=\"\\t\")\n",
    "st18 <- read.delim(\"/work/Xenopus/Notebooks/V2/Heatmap_markers/human_heatmap_markers_st18.tsv\", header = TRUE, sep=\"\\t\")\n",
    "st20 <- read.delim(\"/work/Xenopus/Notebooks/V2/Heatmap_markers/human_heatmap_markers_st20.tsv\", header = TRUE, sep=\"\\t\")\n",
    "st22 <- read.delim(\"/work/Xenopus/Notebooks/V2/Heatmap_markers/human_heatmap_markers_st22.tsv\", header = TRUE, sep=\"\\t\")\n",
    "st24 <- read.delim(\"/work/Xenopus/Notebooks/V2/Heatmap_markers/human_heatmap_markers_st24.tsv\", header = TRUE, sep=\"\\t\")\n",
    "st27 <- read.delim(\"/work/Xenopus/Notebooks/V2/Heatmap_markers/human_heatmap_markers_st27.tsv\", header = TRUE, sep=\"\\t\")"
   ]
  },
  {
   "cell_type": "code",
   "execution_count": 6,
   "metadata": {},
   "outputs": [
    {
     "name": "stderr",
     "output_type": "stream",
     "text": [
      "'select()' returned 1:1 mapping between keys and columns\n",
      "\n",
      "Warning message in bitr(table[, 1], fromType = \"SYMBOL\", toType = \"ENTREZID\", OrgDb = \"org.Hs.eg.db\"):\n",
      "“3.92% of input gene IDs are fail to map...”\n",
      "'select()' returned 1:1 mapping between keys and columns\n",
      "\n",
      "Warning message in bitr(table[, 1], fromType = \"SYMBOL\", toType = \"ENTREZID\", OrgDb = \"org.Hs.eg.db\"):\n",
      "“4% of input gene IDs are fail to map...”\n",
      "'select()' returned 1:1 mapping between keys and columns\n",
      "\n",
      "Warning message in bitr(table[, 1], fromType = \"SYMBOL\", toType = \"ENTREZID\", OrgDb = \"org.Hs.eg.db\"):\n",
      "“4.35% of input gene IDs are fail to map...”\n",
      "'select()' returned 1:1 mapping between keys and columns\n",
      "\n",
      "'select()' returned 1:1 mapping between keys and columns\n",
      "\n",
      "Warning message in bitr(table[, 1], fromType = \"SYMBOL\", toType = \"ENTREZID\", OrgDb = \"org.Hs.eg.db\"):\n",
      "“5.07% of input gene IDs are fail to map...”\n",
      "'select()' returned 1:1 mapping between keys and columns\n",
      "\n",
      "Warning message in bitr(table[, 1], fromType = \"SYMBOL\", toType = \"ENTREZID\", OrgDb = \"org.Hs.eg.db\"):\n",
      "“4.26% of input gene IDs are fail to map...”\n",
      "'select()' returned 1:1 mapping between keys and columns\n",
      "\n",
      "Warning message in bitr(table[, 1], fromType = \"SYMBOL\", toType = \"ENTREZID\", OrgDb = \"org.Hs.eg.db\"):\n",
      "“3.85% of input gene IDs are fail to map...”\n",
      "'select()' returned 1:1 mapping between keys and columns\n",
      "\n",
      "Warning message in bitr(table[, 1], fromType = \"SYMBOL\", toType = \"ENTREZID\", OrgDb = \"org.Hs.eg.db\"):\n",
      "“5.72% of input gene IDs are fail to map...”\n",
      "'select()' returned 1:1 mapping between keys and columns\n",
      "\n",
      "Warning message in bitr(table[, 1], fromType = \"SYMBOL\", toType = \"ENTREZID\", OrgDb = \"org.Hs.eg.db\"):\n",
      "“1.6% of input gene IDs are fail to map...”\n",
      "'select()' returned 1:1 mapping between keys and columns\n",
      "\n",
      "Warning message in bitr(table[, 1], fromType = \"SYMBOL\", toType = \"ENTREZID\", OrgDb = \"org.Hs.eg.db\"):\n",
      "“11.11% of input gene IDs are fail to map...”\n",
      "'select()' returned 1:1 mapping between keys and columns\n",
      "\n",
      "Warning message in bitr(table[, 1], fromType = \"SYMBOL\", toType = \"ENTREZID\", OrgDb = \"org.Hs.eg.db\"):\n",
      "“3.28% of input gene IDs are fail to map...”\n",
      "'select()' returned 1:1 mapping between keys and columns\n",
      "\n",
      "Warning message in bitr(table[, 1], fromType = \"SYMBOL\", toType = \"ENTREZID\", OrgDb = \"org.Hs.eg.db\"):\n",
      "“4.52% of input gene IDs are fail to map...”\n",
      "'select()' returned 1:1 mapping between keys and columns\n",
      "\n",
      "Warning message in bitr(table[, 1], fromType = \"SYMBOL\", toType = \"ENTREZID\", OrgDb = \"org.Hs.eg.db\"):\n",
      "“8.96% of input gene IDs are fail to map...”\n",
      "'select()' returned 1:many mapping between keys and columns\n",
      "\n",
      "Warning message in bitr(table[, 1], fromType = \"SYMBOL\", toType = \"ENTREZID\", OrgDb = \"org.Hs.eg.db\"):\n",
      "“11.46% of input gene IDs are fail to map...”\n",
      "'select()' returned 1:1 mapping between keys and columns\n",
      "\n",
      "Warning message in bitr(table[, 1], fromType = \"SYMBOL\", toType = \"ENTREZID\", OrgDb = \"org.Hs.eg.db\"):\n",
      "“6.2% of input gene IDs are fail to map...”\n",
      "'select()' returned 1:many mapping between keys and columns\n",
      "\n",
      "Warning message in bitr(table[, 1], fromType = \"SYMBOL\", toType = \"ENTREZID\", OrgDb = \"org.Hs.eg.db\"):\n",
      "“6.99% of input gene IDs are fail to map...”\n"
     ]
    }
   ],
   "source": [
    "convert <- function(table){\n",
    "  map = c()\n",
    "  #table = table[!duplicated(table$Hum_Gene), ]\n",
    "  eg = bitr(table[,1], fromType=\"SYMBOL\", toType=\"ENTREZID\", OrgDb=\"org.Hs.eg.db\")\n",
    "  #for (i in eg$SYMBOL){\n",
    "  #  map = c(map , match(i,table$Hum_Gene))\n",
    "  #}\n",
    "  #eg$logFC = table$logFC[map]\n",
    "  #eg = eg[!duplicated(eg$ENTREZID), ]\n",
    "  ## feature 1: numeric vector\n",
    "  geneList <- eg[,2]\n",
    "  ## feature 2: named vector\n",
    "  names(geneList) <- as.character(eg[,2])\n",
    "  ## feature 3: decreasing order\n",
    "  geneList <- sort(geneList, decreasing = TRUE)\n",
    "  data(geneList, package=\"DOSE\")\n",
    "  head(geneList)\n",
    "  return(geneList)\n",
    "}\n",
    "geneList_c0 = convert(c0)\n",
    "geneList_c1 = convert(c1)\n",
    "geneList_c2 = convert(c2)\n",
    "geneList_c3 = convert(c3)\n",
    "geneList_c4 = convert(c4)\n",
    "geneList_c5 = convert(c5)\n",
    "geneList_c6 = convert(c6)\n",
    "geneList_c7 = convert(c7)\n",
    "geneList_c8 = convert(c8)\n",
    "geneList_c9 = convert(c9)\n",
    "geneList_c10 = convert(c10)\n",
    "geneList_c11 = convert(c11)\n",
    "geneList_c12 = convert(c12)\n",
    "geneList_c13 = convert(c13)\n",
    "geneList_c14 = convert(c14)\n",
    "geneList_background = convert(background)"
   ]
  },
  {
   "cell_type": "code",
   "execution_count": 11,
   "metadata": {},
   "outputs": [
    {
     "name": "stderr",
     "output_type": "stream",
     "text": [
      "'select()' returned 1:1 mapping between keys and columns\n",
      "\n",
      "Warning message in bitr(table[, 1], fromType = \"SYMBOL\", toType = \"ENTREZID\", OrgDb = \"org.Hs.eg.db\"):\n",
      "“6.95% of input gene IDs are fail to map...”\n",
      "'select()' returned 1:many mapping between keys and columns\n",
      "\n",
      "Warning message in bitr(table[, 1], fromType = \"SYMBOL\", toType = \"ENTREZID\", OrgDb = \"org.Hs.eg.db\"):\n",
      "“4.61% of input gene IDs are fail to map...”\n",
      "'select()' returned 1:1 mapping between keys and columns\n",
      "\n",
      "Warning message in bitr(table[, 1], fromType = \"SYMBOL\", toType = \"ENTREZID\", OrgDb = \"org.Hs.eg.db\"):\n",
      "“4.32% of input gene IDs are fail to map...”\n",
      "'select()' returned 1:1 mapping between keys and columns\n",
      "\n",
      "Warning message in bitr(table[, 1], fromType = \"SYMBOL\", toType = \"ENTREZID\", OrgDb = \"org.Hs.eg.db\"):\n",
      "“8.65% of input gene IDs are fail to map...”\n",
      "'select()' returned 1:1 mapping between keys and columns\n",
      "\n",
      "Warning message in bitr(table[, 1], fromType = \"SYMBOL\", toType = \"ENTREZID\", OrgDb = \"org.Hs.eg.db\"):\n",
      "“7.37% of input gene IDs are fail to map...”\n",
      "'select()' returned 1:1 mapping between keys and columns\n",
      "\n",
      "Warning message in bitr(table[, 1], fromType = \"SYMBOL\", toType = \"ENTREZID\", OrgDb = \"org.Hs.eg.db\"):\n",
      "“8.57% of input gene IDs are fail to map...”\n",
      "'select()' returned 1:1 mapping between keys and columns\n",
      "\n",
      "Warning message in bitr(table[, 1], fromType = \"SYMBOL\", toType = \"ENTREZID\", OrgDb = \"org.Hs.eg.db\"):\n",
      "“9.68% of input gene IDs are fail to map...”\n",
      "'select()' returned 1:1 mapping between keys and columns\n",
      "\n",
      "Warning message in bitr(table[, 1], fromType = \"SYMBOL\", toType = \"ENTREZID\", OrgDb = \"org.Hs.eg.db\"):\n",
      "“3.09% of input gene IDs are fail to map...”\n",
      "'select()' returned 1:1 mapping between keys and columns\n",
      "\n",
      "Warning message in bitr(table[, 1], fromType = \"SYMBOL\", toType = \"ENTREZID\", OrgDb = \"org.Hs.eg.db\"):\n",
      "“3.57% of input gene IDs are fail to map...”\n",
      "'select()' returned 1:1 mapping between keys and columns\n",
      "\n",
      "Warning message in bitr(table[, 1], fromType = \"SYMBOL\", toType = \"ENTREZID\", OrgDb = \"org.Hs.eg.db\"):\n",
      "“5% of input gene IDs are fail to map...”\n"
     ]
    }
   ],
   "source": [
    "geneList_st08 = convert(st08)\n",
    "geneList_st10 = convert(st10)\n",
    "geneList_st12 = convert(st12)\n",
    "geneList_st13 = convert(st13)\n",
    "geneList_st16 = convert(st16)\n",
    "geneList_st18 = convert(st18)\n",
    "geneList_st20 = convert(st20)\n",
    "geneList_st22 = convert(st22)\n",
    "geneList_st24 = convert(st24)\n",
    "geneList_st27 = convert(st27)"
   ]
  },
  {
   "cell_type": "code",
   "execution_count": 7,
   "metadata": {},
   "outputs": [],
   "source": [
    "data.list <- list('7' = geneList_c7,\n",
    "                  '4' = geneList_c4,\n",
    "                  '0' = geneList_c0, \n",
    "                  '2' = geneList_c2, \n",
    "                  '1' = geneList_c1, \n",
    "                  '5' = geneList_c5,\n",
    "                  '14' = geneList_c14,\n",
    "                  '12' = geneList_c12,\n",
    "                  '6' = geneList_c6,\n",
    "                  '3' = geneList_c3,\n",
    "                  '9' = geneList_c9,\n",
    "                  '10' = geneList_c10,\n",
    "                  '13' = geneList_c13,\n",
    "                  '11' = geneList_c11,\n",
    "                  '8' = geneList_c8\n",
    "                  )"
   ]
  },
  {
   "cell_type": "code",
   "execution_count": 12,
   "metadata": {},
   "outputs": [],
   "source": [
    "data.list2 <- list('st08' = geneList_st08,\n",
    "                  'st10.5' = geneList_st10,\n",
    "                  'st12' = geneList_st12, \n",
    "                  'st13' = geneList_st13, \n",
    "                  'st16' = geneList_st16, \n",
    "                  'st18' = geneList_st18,\n",
    "                  'st20' = geneList_st20,\n",
    "                  'st22' = geneList_st22,\n",
    "                  'st24' = geneList_st24,\n",
    "                  'st27' = geneList_st27\n",
    "                  )"
   ]
  },
  {
   "cell_type": "code",
   "execution_count": 8,
   "metadata": {},
   "outputs": [],
   "source": [
    "CompareGO_BP =compareCluster(data.list, fun=\"enrichGO\", pvalueCutoff=0.05, pAdjustMethod=\"BH\", OrgDb=org.Hs.eg.db, ont=\"BP\",readable=T)"
   ]
  },
  {
   "cell_type": "code",
   "execution_count": 13,
   "metadata": {},
   "outputs": [],
   "source": [
    "CompareGO_BP_stage =compareCluster(data.list2, fun=\"enrichGO\", pvalueCutoff=0.05, pAdjustMethod=\"BH\", OrgDb=org.Hs.eg.db, ont=\"BP\",readable=T)"
   ]
  },
  {
   "cell_type": "code",
   "execution_count": 9,
   "metadata": {},
   "outputs": [
    {
     "data": {
      "text/html": [
       "<strong>png:</strong> 2"
      ],
      "text/latex": [
       "\\textbf{png:} 2"
      ],
      "text/markdown": [
       "**png:** 2"
      ],
      "text/plain": [
       "png \n",
       "  2 "
      ]
     },
     "metadata": {},
     "output_type": "display_data"
    }
   ],
   "source": [
    "pdf('cluster_GO_dotplot.pdf',width = 10, height = 10)\n",
    "dotplot(CompareGO_BP, showCategory=5, includeAll=TRUE, font.size = 7, title = 'Palantir cluster GO - enrichment')\n",
    "dev.off()"
   ]
  },
  {
   "cell_type": "code",
   "execution_count": 14,
   "metadata": {},
   "outputs": [
    {
     "data": {
      "text/html": [
       "<strong>png:</strong> 2"
      ],
      "text/latex": [
       "\\textbf{png:} 2"
      ],
      "text/markdown": [
       "**png:** 2"
      ],
      "text/plain": [
       "png \n",
       "  2 "
      ]
     },
     "metadata": {},
     "output_type": "display_data"
    }
   ],
   "source": [
    "pdf('stage_GO_dotplot.pdf')\n",
    "dotplot(CompareGO_BP_stage, showCategory=10, includeAll=TRUE, font.size = 7, title = 'Stage GO - enrichment')\n",
    "dev.off()"
   ]
  },
  {
   "cell_type": "code",
   "execution_count": null,
   "metadata": {},
   "outputs": [],
   "source": []
  }
 ],
 "metadata": {
  "kernelspec": {
   "display_name": "R",
   "language": "R",
   "name": "ir"
  },
  "language_info": {
   "codemirror_mode": "r",
   "file_extension": ".r",
   "mimetype": "text/x-r-source",
   "name": "R",
   "pygments_lexer": "r",
   "version": "3.6.3"
  }
 },
 "nbformat": 4,
 "nbformat_minor": 4
}
