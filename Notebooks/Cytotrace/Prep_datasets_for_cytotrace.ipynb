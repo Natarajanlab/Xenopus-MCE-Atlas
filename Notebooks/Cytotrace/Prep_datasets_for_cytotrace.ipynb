{
 "cells": [
  {
   "cell_type": "code",
   "execution_count": 2,
   "metadata": {},
   "outputs": [
    {
     "name": "stderr",
     "output_type": "stream",
     "text": [
      "/work/sduknn/Andreas/bin/python_deps/lib/python3.6/site-packages/numba/errors.py:105: UserWarning: Insufficiently recent colorama version found. Numba requires colorama >= 0.3.9\n",
      "  warnings.warn(msg)\n"
     ]
    }
   ],
   "source": [
    "import scanpy as sc\n",
    "import pandas as pd\n",
    "import numpy as np\n",
    "import seaborn as sns\n",
    "import matplotlib.pyplot as plt\n",
    "import scvelo as scv\n",
    "from scipy import stats\n",
    "import os\n"
   ]
  },
  {
   "cell_type": "code",
   "execution_count": 3,
   "metadata": {},
   "outputs": [],
   "source": [
    "import warnings\n",
    "warnings.filterwarnings(\"ignore\")"
   ]
  },
  {
   "cell_type": "code",
   "execution_count": 3,
   "metadata": {},
   "outputs": [
    {
     "name": "stdout",
     "output_type": "stream",
     "text": [
      "scanpy==1.4+331.g0047163 anndata==0.6.19 numpy==1.17.1 scipy==1.1.0 pandas==0.23.4 scikit-learn==0.22.1 statsmodels==0.9.0 python-igraph==0.7.1 louvain==0.6.1 \n"
     ]
    }
   ],
   "source": [
    "sc.settings.verbosity = 0  # verbosity: errors (0), warnings (1), info (2), hints (3)\n",
    "sc.logging.print_versions()\n"
   ]
  },
  {
   "cell_type": "code",
   "execution_count": 4,
   "metadata": {},
   "outputs": [
    {
     "name": "stdout",
     "output_type": "stream",
     "text": [
      "scvelo==0.1.16  scanpy==1.4+331.g0047163  anndata==0.6.19  loompy==2.0.12  numpy==1.17.1  scipy==1.1.0  matplotlib==2.2.4  sklearn==0.22.1  pandas==0.23.4  \n"
     ]
    }
   ],
   "source": [
    "scv.logging.print_versions()"
   ]
  },
  {
   "cell_type": "markdown",
   "metadata": {},
   "source": [
    "## Import zUMI Dataset"
   ]
  },
  {
   "cell_type": "code",
   "execution_count": 7,
   "metadata": {},
   "outputs": [],
   "source": [
    "#Import all datasets datasets\n",
    "st08_z = sc.read_loom(\n",
    "    '/work/sduknn/Andreas/xenopus/zUMI_out/scCapSt08/zUMIs_output/velocity/zUMI_scCapSt08.loom', )\n",
    "\n",
    "st105_z = sc.read_loom(\n",
    "    '/work/sduknn/Andreas/xenopus/zUMI_out/scCapSt105/zUMIs_output/velocity/zUMI_scCapSt105.loom')\n",
    "\n",
    "st12_z = sc.read_loom(\n",
    "    '/work/sduknn/Andreas/xenopus/zUMI_out/scCapSt12/zUMIs_output/velocity/zUMI_scCapSt12.loom')\n",
    "\n",
    "st13_z = sc.read_loom(\n",
    "    '/work/sduknn/Andreas/xenopus/zUMI_out/scCapSt13/zUMIs_output/velocity/zUMI_scCapSt13.loom')\n",
    "\n",
    "st16_z = sc.read_loom(\n",
    "    '/work/sduknn/Andreas/xenopus/zUMI_out/scCapSt16/zUMIs_output/velocity/zUMI_scCapSt16.loom')\n",
    "\n",
    "st18_z = sc.read_loom(\n",
    "    '/work/sduknn/Andreas/xenopus/zUMI_out/scCapSt18/zUMIs_output/velocity/zUMI_scCapSt18.loom')\n",
    "\n",
    "st20_z = sc.read_loom(\n",
    "    '/work/sduknn/Andreas/xenopus/zUMI_out/scCapSt20/zUMIs_output/velocity/zUMI_scCapSt20.loom')\n",
    "\n",
    "st22_z = sc.read_loom(\n",
    "    '/work/sduknn/Andreas/xenopus/zUMI_out/scCapSt22/zUMIs_output/velocity/zUMI_scCapSt22.loom')\n",
    "\n",
    "st24_z = sc.read_loom(\n",
    "    '/work/sduknn/Andreas/xenopus/zUMI_out/scCapSt24/zUMIs_output/velocity/zUMI_scCapSt24.loom')\n",
    "\n",
    "st27_z = sc.read_loom(\n",
    "    '/work/sduknn/Andreas/xenopus/zUMI_out/scCapSt27/zUMIs_output/velocity/zUMI_scCapSt27.loom')\n",
    "\n"
   ]
  },
  {
   "cell_type": "code",
   "execution_count": 8,
   "metadata": {},
   "outputs": [],
   "source": [
    "st08_z.obs['stage'] = 'st08'\n",
    "st105_z.obs['stage'] = 'st10.5'\n",
    "st12_z.obs['stage'] = 'st12'\n",
    "st13_z.obs['stage'] = 'st13'\n",
    "st16_z.obs['stage'] = 'st16'\n",
    "st18_z.obs['stage'] = 'st18'\n",
    "st20_z.obs['stage'] = 'st20'\n",
    "st22_z.obs['stage'] = 'st22'\n",
    "st24_z.obs['stage'] = 'st24'\n",
    "st27_z.obs['stage'] = 'st27'"
   ]
  },
  {
   "cell_type": "code",
   "execution_count": 9,
   "metadata": {},
   "outputs": [],
   "source": [
    "datasets_z = [st08_z, st105_z, st12_z, st13_z, st16_z, st18_z, st20_z, st22_z, st24_z, st27_z] \n",
    "\n"
   ]
  },
  {
   "cell_type": "code",
   "execution_count": 5,
   "metadata": {},
   "outputs": [],
   "source": [
    "\n",
    "def save_intermediate_files(datasets, temp_dir, file_name_template, identifier):\n",
    "    for d in datasets:\n",
    "        file = os.path.join('.', temp_dir, file_name_template + '_' + d.obs[identifier][0] + '.h5ad')\n",
    "        d.write(file, compression='gzip')\n",
    "        \n",
    "identifiers = ['st08','st10.5','st12','st13','st16','st18','st20','st22','st24','st27']\n",
    "      \n",
    "def load_intermediate_files(temp_dir, file_name_template, identifiers):\n",
    "    ob_list = []\n",
    "    for i in identifiers:\n",
    "        file = os.path.join('.', temp_dir, file_name_template + '_' + i+ '.h5ad')\n",
    "        ob_list.append(sc.read_h5ad(file))\n",
    "    return ob_list"
   ]
  },
  {
   "cell_type": "code",
   "execution_count": 6,
   "metadata": {},
   "outputs": [
    {
     "ename": "NameError",
     "evalue": "name 'datasets_z' is not defined",
     "output_type": "error",
     "traceback": [
      "\u001b[0;31m---------------------------------------------------------------------------\u001b[0m",
      "\u001b[0;31mNameError\u001b[0m                                 Traceback (most recent call last)",
      "\u001b[0;32m<ipython-input-6-0ca508beed01>\u001b[0m in \u001b[0;36m<module>\u001b[0;34m\u001b[0m\n\u001b[0;32m----> 1\u001b[0;31m \u001b[0msave_intermediate_files\u001b[0m\u001b[0;34m(\u001b[0m\u001b[0mdatasets_z\u001b[0m\u001b[0;34m,\u001b[0m \u001b[0;34m'intermediate_files'\u001b[0m\u001b[0;34m,\u001b[0m \u001b[0;34m'zUMI_Unprocessed'\u001b[0m \u001b[0;34m,\u001b[0m \u001b[0;34m'stage'\u001b[0m\u001b[0;34m)\u001b[0m\u001b[0;34m\u001b[0m\u001b[0m\n\u001b[0m",
      "\u001b[0;31mNameError\u001b[0m: name 'datasets_z' is not defined"
     ]
    }
   ],
   "source": [
    "save_intermediate_files(datasets_z, 'intermediate_files', 'zUMI_Unprocessed' , 'stage')"
   ]
  },
  {
   "cell_type": "markdown",
   "metadata": {},
   "source": [
    "## Load complete"
   ]
  },
  {
   "cell_type": "code",
   "execution_count": 6,
   "metadata": {},
   "outputs": [],
   "source": [
    "\n",
    "st08_z_u, st105_z_u, st12_z_u, st13_z_u, st16_z_u, st18_z_u, st20_z_u, st22_z_u, st24_z_u, st27_z_u = load_intermediate_files( 'intermediate_files', 'zUMI_Unprocessed' , identifiers)\n"
   ]
  },
  {
   "cell_type": "code",
   "execution_count": 7,
   "metadata": {},
   "outputs": [],
   "source": [
    "datasets_z_u = [st08_z_u, st105_z_u, st12_z_u, st13_z_u, st16_z_u, st18_z_u, st20_z_u, st22_z_u, st24_z_u, st27_z_u]\n",
    "\n"
   ]
  },
  {
   "cell_type": "markdown",
   "metadata": {},
   "source": [
    "## Load processed"
   ]
  },
  {
   "cell_type": "code",
   "execution_count": 8,
   "metadata": {},
   "outputs": [],
   "source": [
    "st08_z_p, st105_z_p, st12_z_p, st13_z_p, st16_z_p, st18_z_p, st20_z_p, st22_z_p, st24_z_p, st27_z_p = load_intermediate_files( 'intermediate_files', 'zUMI_raw_singlets' , identifiers) \n",
    "\n"
   ]
  },
  {
   "cell_type": "code",
   "execution_count": 9,
   "metadata": {},
   "outputs": [],
   "source": [
    "datasets_z_p = [st08_z_p, st105_z_p, st12_z_p, st13_z_p, st16_z_p, st18_z_p, st20_z_p, st22_z_p, st24_z_p, st27_z_p]\n"
   ]
  },
  {
   "cell_type": "markdown",
   "metadata": {},
   "source": [
    "## Save subsets"
   ]
  },
  {
   "cell_type": "code",
   "execution_count": 82,
   "metadata": {},
   "outputs": [],
   "source": [
    "from multiprocessing import Pool\n",
    "\n",
    "\n",
    "# Save individual stages as csv files and modify gene names to not include symbols, which yielded problems when loading in R\n",
    "def save_subsets_p(datasets):\n",
    "    u, p = datasets\n",
    "    print('saving : {}'.format(p.obs['stage'][0]))\n",
    "    df = pd.DataFrame(data = u.X.todense().T, \n",
    "             columns = [p.obs['stage'][0] + '_' + cut_zumi(bc) for bc in u.obs_names.tolist()], \n",
    "            index = [gene.replace('.', 'dotdotdot').replace('|', 'abcabcabc') for gene in u.var_names.tolist()])\n",
    "    df = df.loc[:, [p.obs['stage'][0] + '_' + x for x in p.obs_names.tolist()]]\n",
    "    pd.DataFrame(df.index).to_csv('data_cyto/{}genes_cyto.txt'.format(p.obs['stage'][0]), sep = '\\t', header = False, index = False )\n",
    "    df.to_csv('data_cyto/{}counts_cyto.txt'.format(p.obs['stage'][0]), sep = '\\t', index = False )\n",
    "    print('Finished saving: {}'.format(p.obs['stage'][0]))\n",
    "    \n",
    "def cut_zumi(bc):\n",
    "    return bc.split(':')[1].strip('x')\n",
    "\n",
    "\n",
    "\n"
   ]
  },
  {
   "cell_type": "code",
   "execution_count": null,
   "metadata": {},
   "outputs": [],
   "source": [
    "pool = Pool(10) \n",
    "pool.map(save_subsets_p, zip(datasets_z_u,datasets_z_p))"
   ]
  },
  {
   "cell_type": "code",
   "execution_count": null,
   "metadata": {},
   "outputs": [],
   "source": []
  },
  {
   "cell_type": "markdown",
   "metadata": {},
   "source": [
    "!R run_cytoTRACE.R"
   ]
  },
  {
   "cell_type": "code",
   "execution_count": null,
   "metadata": {},
   "outputs": [],
   "source": []
  },
  {
   "cell_type": "markdown",
   "metadata": {},
   "source": [
    "## Read cytotrace output and make plots"
   ]
  },
  {
   "cell_type": "code",
   "execution_count": null,
   "metadata": {},
   "outputs": [],
   "source": []
  },
  {
   "cell_type": "code",
   "execution_count": 3,
   "metadata": {},
   "outputs": [],
   "source": [
    "cyto = pd.read_csv('Xenopus_cytotrace/data_cyto/CytoTRACE_plot_table.txt', sep = '\\t')"
   ]
  },
  {
   "cell_type": "code",
   "execution_count": 104,
   "metadata": {},
   "outputs": [],
   "source": [
    "rank = pd.read_csv('Xenopus_cytotrace/data_cyto/cytotraceRank.tsv', sep = '\\t', header = None)"
   ]
  },
  {
   "cell_type": "code",
   "execution_count": 4,
   "metadata": {},
   "outputs": [],
   "source": [
    "import seaborn as sns\n"
   ]
  },
  {
   "cell_type": "code",
   "execution_count": 8,
   "metadata": {},
   "outputs": [
    {
     "data": {
      "image/png": "[encoded data removed]",
      "text/plain": [
       "<Figure size 504x144 with 1 Axes>"
      ]
     },
     "metadata": {
      "needs_background": "light"
     },
     "output_type": "display_data"
    }
   ],
   "source": [
    "plt.figure(figsize=(7,2))\n",
    "cluster_colors = pd.Series(sns.color_palette(\n",
    "            'rainbow', 10), index=['st08','st10.5','st12','st13','st16','st18','st20','st22','st24','st27'])\n",
    "\n",
    "sns.boxplot(x = 'Phenotype', y = 'CytoTRACE', data = cyto,color='white', orient=\"v\", fliersize = 0, saturation = .0)\n",
    "sns.stripplot(x = 'Phenotype', y = 'CytoTRACE', data = cyto, alpha = 0.01, size = 5,jitter = 0.3, palette = cluster_colors )\n",
    "plt.xlabel('Stage')\n",
    "plt.savefig('./intermediate_files/Figures/cytotrace_per_stage.pdf')"
   ]
  }
 ],
 "metadata": {
  "kernelspec": {
   "display_name": "Python 3",
   "language": "python",
   "name": "python3"
  },
  "language_info": {
   "codemirror_mode": {
    "name": "ipython",
    "version": 3
   },
   "file_extension": ".py",
   "mimetype": "text/x-python",
   "name": "python",
   "nbconvert_exporter": "python",
   "pygments_lexer": "ipython3",
   "version": "3.7.8"
  }
 },
 "nbformat": 4,
 "nbformat_minor": 4
}
