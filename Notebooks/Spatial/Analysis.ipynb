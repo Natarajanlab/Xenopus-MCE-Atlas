{
 "cells": [
  {
   "cell_type": "code",
   "execution_count": null,
   "metadata": {},
   "outputs": [],
   "source": [
    "import scanpy as sc\n",
    "import pandas as pd\n",
    "import numpy as np\n",
    "import seaborn as sns\n",
    "import matplotlib.pyplot as plt\n",
    "#import scvelo as scv\n",
    "from scipy import stats\n",
    "import os\n",
    "import matplotlib\n",
    "import pickle\n",
    "%matplotlib inline\n",
    "import palantir\n",
    "import harmony\n",
    "import random\n",
    "np.random.seed(0)\n",
    "random.seed(0)"
   ]
  },
  {
   "cell_type": "code",
   "execution_count": null,
   "metadata": {},
   "outputs": [],
   "source": []
  },
  {
   "cell_type": "code",
   "execution_count": 3,
   "metadata": {},
   "outputs": [],
   "source": [
    "import sys\n",
    "sys.path.append('../Integrated_analysis/')\n",
    "from Integrate import concat_for_harmony, adata_to_df"
   ]
  },
  {
   "cell_type": "code",
   "execution_count": 6,
   "metadata": {},
   "outputs": [],
   "source": [
    "A1_2 = pd.read_csv('A1_2_measurements.csv', sep = '\\t', skiprows=1, index_col = 0).iloc[:,:-1]\n",
    "A1_3 = pd.read_csv('A1_3_measurements.csv', sep = '\\t', skiprows=1, index_col = 0).iloc[:,:-1]\n",
    "A1_4 = pd.read_csv('A1_4_measurements.csv', sep = '\\t', skiprows=1, index_col = 0).iloc[:,:-1]\n",
    "A2_1 = pd.read_csv('A2_1_measurements.csv', sep = '\\t', skiprows=1, index_col = 0).iloc[:,:-1]\n",
    "A2_2 = pd.read_csv('A2_2_measurements.csv', sep = '\\t', skiprows=1, index_col = 0).iloc[:,:-1]\n",
    "\n",
    "\n",
    "B1_1 = pd.read_csv('B2_1_measurements.csv', sep = '\\t', skiprows=1, index_col = 0).iloc[:,:-1]\n",
    "B1_2 = pd.read_csv('B1_2_measurements.csv', sep = '\\t', skiprows=1, index_col = 0).iloc[:,:-1]\n",
    "B2_1 = pd.read_csv('B2_1_measurements.csv', sep = '\\t', skiprows=1, index_col = 0).iloc[:,:-1]\n",
    "B2_2 = pd.read_csv('B2_2_measurements.csv', sep = '\\t', skiprows=1, index_col = 0).iloc[:,:-1]\n",
    "\n",
    "D2_1 = pd.read_csv('D2_1_measurements.csv', sep = '\\t', skiprows=1, index_col = 0).iloc[:,:-1]"
   ]
  },
  {
   "cell_type": "code",
   "execution_count": null,
   "metadata": {},
   "outputs": [],
   "source": []
  },
  {
   "cell_type": "code",
   "execution_count": 9,
   "metadata": {},
   "outputs": [],
   "source": [
    "tp = [*['8/10']*len(A1_2.columns),\n",
    "*['8/10']*len(A1_3.columns),\n",
    "*['8/10']*len(A1_4.columns),\n",
    "*['18/20']*len(A2_1.columns),\n",
    "*['18/20']*len(A2_2.columns),\n",
    "*['12']*len(B1_1.columns),\n",
    "*['12']*len(B1_2.columns),\n",
    "*['13']*len(B2_1.columns),\n",
    "*['13']*len(B2_2.columns),\n",
    "*['27']*len(D2_1.columns)]\n",
    "\n",
    "ph = [*['A1_2']*len(A1_2.columns),\n",
    "*['A1_3']*len(A1_3.columns),\n",
    "*['A1_4']*len(A1_4.columns),\n",
    "*['A2_1']*len(A2_1.columns),\n",
    "*['A2_2']*len(A2_2.columns),\n",
    "*['B1_1']*len(B1_1.columns),\n",
    "*['B1_2']*len(B1_2.columns),\n",
    "*['B2_1']*len(B2_1.columns),\n",
    "*['B2_2']*len(B2_2.columns),\n",
    "*['D2_1']*len(D2_1.columns)]"
   ]
  },
  {
   "cell_type": "code",
   "execution_count": 10,
   "metadata": {},
   "outputs": [],
   "source": [
    "merge = pd.concat([A1_2, A1_3, A1_4, A2_1,A2_2, B1_1, B1_2, B2_1, B2_2, D2_1], axis = 1).replace(np.NaN, 0)"
   ]
  },
  {
   "cell_type": "code",
   "execution_count": null,
   "metadata": {},
   "outputs": [],
   "source": []
  },
  {
   "cell_type": "code",
   "execution_count": null,
   "metadata": {},
   "outputs": [],
   "source": []
  },
  {
   "cell_type": "code",
   "execution_count": 11,
   "metadata": {},
   "outputs": [
    {
     "name": "stderr",
     "output_type": "stream",
     "text": [
      "Observation names are not unique. To make them unique, call `.obs_names_make_unique`.\n"
     ]
    }
   ],
   "source": [
    "merge = sc.AnnData(merge.T)"
   ]
  },
  {
   "cell_type": "code",
   "execution_count": 12,
   "metadata": {},
   "outputs": [],
   "source": [
    "merge.obs['Dev_time'] = tp\n",
    "merge.obs['Photo'] = ph\n"
   ]
  },
  {
   "cell_type": "code",
   "execution_count": 13,
   "metadata": {},
   "outputs": [
    {
     "data": {
      "text/plain": [
       "AnnData object with n_obs × n_vars = 12732 × 31\n",
       "    obs: 'Dev_time', 'Photo'"
      ]
     },
     "execution_count": 13,
     "metadata": {},
     "output_type": "execute_result"
    }
   ],
   "source": [
    "merge"
   ]
  },
  {
   "cell_type": "code",
   "execution_count": 14,
   "metadata": {},
   "outputs": [],
   "source": [
    "def preprocess(adata, N_counts = 8):\n",
    "    #adata = sc.AnnData(df.T)\n",
    "    sc.pp.filter_cells(adata, min_genes=1)\n",
    "    sc.pp.filter_genes(adata, min_cells=3)\n",
    "    sc.pp.calculate_qc_metrics(adata,  percent_top=None, log1p=False, inplace=True)\n",
    "    adata = adata[adata.obs.total_counts > N_counts, :] #B1 = 5, B2_1 = 10\n",
    "    sc.pp.normalize_total(adata, target_sum=1e4)\n",
    "    adata.raw = adata\n",
    "    #sc.pp.scale(adata, max_value=10)\n",
    "    sc.tl.pca(adata, svd_solver='arpack')\n",
    "    sc.pp.neighbors(adata, n_neighbors=40, n_pcs=3)\n",
    "    sc.tl.umap(adata)\n",
    "    return adata"
   ]
  },
  {
   "cell_type": "code",
   "execution_count": 15,
   "metadata": {},
   "outputs": [
    {
     "name": "stderr",
     "output_type": "stream",
     "text": [
      "/opt/conda/lib/python3.7/site-packages/anndata/_core/anndata.py:1094: FutureWarning: is_categorical is deprecated and will be removed in a future version.  Use is_categorical_dtype instead\n",
      "  if not is_categorical(df_full[k]):\n",
      "Observation names are not unique. To make them unique, call `.obs_names_make_unique`.\n",
      "Observation names are not unique. To make them unique, call `.obs_names_make_unique`.\n",
      "Observation names are not unique. To make them unique, call `.obs_names_make_unique`.\n",
      "Observation names are not unique. To make them unique, call `.obs_names_make_unique`.\n",
      "/opt/conda/lib/python3.7/site-packages/anndata/_core/anndata.py:1094: FutureWarning: is_categorical is deprecated and will be removed in a future version.  Use is_categorical_dtype instead\n",
      "  if not is_categorical(df_full[k]):\n",
      "/opt/conda/lib/python3.7/site-packages/scanpy/preprocessing/_normalization.py:138: UserWarning: Revieved a view of an AnnData. Making a copy.\n",
      "  view_to_actual(adata)\n",
      "Observation names are not unique. To make them unique, call `.obs_names_make_unique`.\n",
      "Observation names are not unique. To make them unique, call `.obs_names_make_unique`.\n"
     ]
    }
   ],
   "source": [
    "merge_processed = preprocess(merge)"
   ]
  },
  {
   "cell_type": "code",
   "execution_count": 16,
   "metadata": {},
   "outputs": [
    {
     "name": "stderr",
     "output_type": "stream",
     "text": [
      "/opt/conda/lib/python3.7/site-packages/seaborn/categorical.py:402: UserWarning: Use the colorbar set_ticks() method instead.\n",
      "  ax.set_xticks(np.arange(len(self.plot_data)))\n"
     ]
    },
    {
     "data": {
      "text/plain": [
       "(0.0, 200.0)"
      ]
     },
     "execution_count": 16,
     "metadata": {},
     "output_type": "execute_result"
    }
   ],
   "source": [
    "sns.boxplot(x = 'Dev_time', y = 'total_counts', data = merge_processed.obs, fliersize = 0)\n",
    "plt.ylim(0, 200)"
   ]
  },
  {
   "cell_type": "code",
   "execution_count": 17,
   "metadata": {},
   "outputs": [],
   "source": [
    "sc.tl.leiden(merge_processed, resolution = 0.4)"
   ]
  },
  {
   "cell_type": "code",
   "execution_count": 18,
   "metadata": {},
   "outputs": [
    {
     "name": "stderr",
     "output_type": "stream",
     "text": [
      "/opt/conda/lib/python3.7/site-packages/anndata/_core/anndata.py:1192: FutureWarning: is_categorical is deprecated and will be removed in a future version.  Use is_categorical_dtype instead\n",
      "  if is_string_dtype(df[key]) and not is_categorical(df[key])\n",
      "... storing 'Dev_time' as categorical\n",
      "... storing 'Photo' as categorical\n"
     ]
    }
   ],
   "source": [
    "fig, ax = plt.subplots(1,1, figsize=(5,5))\n",
    "sc.pl.umap(merge_processed, color=['leiden'], ax = ax)"
   ]
  },
  {
   "cell_type": "code",
   "execution_count": null,
   "metadata": {},
   "outputs": [],
   "source": []
  },
  {
   "cell_type": "code",
   "execution_count": 81,
   "metadata": {},
   "outputs": [],
   "source": [
    "test = merge_processed.to_df()"
   ]
  },
  {
   "cell_type": "code",
   "execution_count": 82,
   "metadata": {},
   "outputs": [],
   "source": [
    "test['Dev_time'] = merge_processed.obs.Dev_time"
   ]
  },
  {
   "cell_type": "code",
   "execution_count": 89,
   "metadata": {},
   "outputs": [],
   "source": [
    "test2 = test.groupby('Dev_time').mean()"
   ]
  },
  {
   "cell_type": "code",
   "execution_count": null,
   "metadata": {},
   "outputs": [],
   "source": [
    "genes = ['sox3_S',\n",
    "         'ctcf_S' ,\n",
    "         'has1_S',         \n",
    "         'spdef_S','tp63_L', 'pfn1_L', \n",
    "         'mcidas_L','foxj1_L', 'tekt2_S',\n",
    "         'grhl3_L','itln1_L' \n",
    "        ]\n",
    "\n",
    "test3 = test2[genes]\n",
    "\n",
    "from sklearn.preprocessing import StandardScaler, MinMaxScaler\n",
    "scaler = StandardScaler()\n",
    "scaler2 = MinMaxScaler()\n",
    "scaled = pd.DataFrame(data = scaler.fit_transform(test3), index = test3.index, columns = test3.columns).T\n",
    "scaled2 = pd.DataFrame(data = scaler2.fit_transform(test3), index = test3.index, columns = test3.columns).T\n",
    "\n",
    "\n",
    "#plt.figure(figsize=(3,5))\n",
    "fig, ax = plt.subplots(figsize=(4,5))\n",
    "#res = \n",
    "sns.heatmap(scaled, cmap = 'RdBu_r', ax = ax)\n",
    "# make frame visible\n",
    "for _, spine in ax.spines.items():\n",
    "    spine.set_visible(True)\n",
    "    \n",
    "ax.hlines(np.array([2, 3, 6, 9]) * 1, *ax.get_xlim(), linestyles = 'dashed')\n",
    "plt.tight_layout()\n",
    "plt.savefig('heatmap_standard.pdf')\n",
    "\n",
    "\n",
    "fig, ax = plt.subplots(figsize=(4,5))\n",
    "#res = \n",
    "sns.heatmap(scaled2, cmap = 'Blues', ax = ax)\n",
    "# make frame visible\n",
    "for _, spine in ax.spines.items():\n",
    "    spine.set_visible(True)\n",
    "    \n",
    "ax.hlines(np.array([2, 3, 6, 9]) * 1, *ax.get_xlim(), linestyles = 'dashed')\n",
    "plt.tight_layout()\n",
    "plt.savefig('heatmap_minmax.pdf')"
   ]
  },
  {
   "cell_type": "code",
   "execution_count": null,
   "metadata": {},
   "outputs": [],
   "source": []
  }
 ],
 "metadata": {
  "kernelspec": {
   "display_name": "Python 3",
   "language": "python",
   "name": "python3"
  },
  "language_info": {
   "codemirror_mode": {
    "name": "ipython",
    "version": 3
   },
   "file_extension": ".py",
   "mimetype": "text/x-python",
   "name": "python",
   "nbconvert_exporter": "python",
   "pygments_lexer": "ipython3",
   "version": "3.7.8"
  }
 },
 "nbformat": 4,
 "nbformat_minor": 4
}
