{
 "cells": [
  {
   "cell_type": "code",
   "execution_count": 18,
   "metadata": {},
   "outputs": [],
   "source": [
    "import scanpy as sc\n",
    "import pandas as pd\n",
    "import numpy as np\n",
    "import seaborn as sns\n",
    "import matplotlib.pyplot as plt\n",
    "import scvelo as scv\n",
    "from scipy import stats\n",
    "import os\n"
   ]
  },
  {
   "cell_type": "code",
   "execution_count": 19,
   "metadata": {},
   "outputs": [],
   "source": [
    "import warnings\n",
    "warnings.filterwarnings(\"ignore\")"
   ]
  },
  {
   "cell_type": "code",
   "execution_count": 20,
   "metadata": {},
   "outputs": [],
   "source": [
    "sc.settings.verbosity = 0  \n"
   ]
  },
  {
   "cell_type": "markdown",
   "metadata": {},
   "source": [
    "## Import zUMI Dataset"
   ]
  },
  {
   "cell_type": "code",
   "execution_count": null,
   "metadata": {},
   "outputs": [],
   "source": [
    "#Import all datasets datasets\n",
    "st08_z = sc.read_loom(\n",
    "    '/work/sduknn/Andreas/xenopus/zUMI_out/scCapSt08/zUMIs_output/velocity/zUMI_scCapSt08.loom', )\n",
    "\n",
    "st105_z = sc.read_loom(\n",
    "    '/work/sduknn/Andreas/xenopus/zUMI_out/scCapSt105/zUMIs_output/velocity/zUMI_scCapSt105.loom')\n",
    "\n",
    "st12_z = sc.read_loom(\n",
    "    '/work/sduknn/Andreas/xenopus/zUMI_out/scCapSt12/zUMIs_output/velocity/zUMI_scCapSt12.loom')\n",
    "\n",
    "st13_z = sc.read_loom(\n",
    "    '/work/sduknn/Andreas/xenopus/zUMI_out/scCapSt13/zUMIs_output/velocity/zUMI_scCapSt13.loom')\n",
    "\n",
    "st16_z = sc.read_loom(\n",
    "    '/work/sduknn/Andreas/xenopus/zUMI_out/scCapSt16/zUMIs_output/velocity/zUMI_scCapSt16.loom')\n",
    "\n",
    "st18_z = sc.read_loom(\n",
    "    '/work/sduknn/Andreas/xenopus/zUMI_out/scCapSt18/zUMIs_output/velocity/zUMI_scCapSt18.loom')\n",
    "\n",
    "st20_z = sc.read_loom(\n",
    "    '/work/sduknn/Andreas/xenopus/zUMI_out/scCapSt20/zUMIs_output/velocity/zUMI_scCapSt20.loom')\n",
    "\n",
    "st22_z = sc.read_loom(\n",
    "    '/work/sduknn/Andreas/xenopus/zUMI_out/scCapSt22/zUMIs_output/velocity/zUMI_scCapSt22.loom')\n",
    "\n",
    "st24_z = sc.read_loom(\n",
    "    '/work/sduknn/Andreas/xenopus/zUMI_out/scCapSt24/zUMIs_output/velocity/zUMI_scCapSt24.loom')\n",
    "\n",
    "st27_z = sc.read_loom(\n",
    "    '/work/sduknn/Andreas/xenopus/zUMI_out/scCapSt27/zUMIs_output/velocity/zUMI_scCapSt27.loom')\n",
    "\n"
   ]
  },
  {
   "cell_type": "code",
   "execution_count": null,
   "metadata": {},
   "outputs": [],
   "source": []
  },
  {
   "cell_type": "code",
   "execution_count": null,
   "metadata": {},
   "outputs": [],
   "source": [
    "st08_z.obs['stage'] = 'st08'\n",
    "st105_z.obs['stage'] = 'st10.5'\n",
    "st12_z.obs['stage'] = 'st12'\n",
    "st13_z.obs['stage'] = 'st13'\n",
    "st16_z.obs['stage'] = 'st16'\n",
    "st18_z.obs['stage'] = 'st18'\n",
    "st20_z.obs['stage'] = 'st20'\n",
    "st22_z.obs['stage'] = 'st22'\n",
    "st24_z.obs['stage'] = 'st24'\n",
    "st27_z.obs['stage'] = 'st27'"
   ]
  },
  {
   "cell_type": "code",
   "execution_count": 13,
   "metadata": {},
   "outputs": [],
   "source": [
    "datasets_z = [st08_z, st105_z, st12_z, st13_z, st16_z, st18_z, st20_z, st22_z, st24_z, st27_z] \n",
    "\n"
   ]
  },
  {
   "cell_type": "code",
   "execution_count": 22,
   "metadata": {},
   "outputs": [],
   "source": [
    "\n",
    "def save_intermediate_files(datasets, temp_dir, file_name_template, identifier):\n",
    "    for d in datasets:\n",
    "        file = os.path.join('.', temp_dir, file_name_template + '_' + d.obs[identifier][0] + '.h5ad')\n",
    "        d.write(file, compression='gzip')\n",
    "        \n",
    "identifiers = ['st08','st10.5','st12','st13','st16','st18','st20','st22','st24','st27']\n",
    "      \n",
    "def load_intermediate_files(temp_dir, file_name_template, identifiers):\n",
    "    ob_list = []\n",
    "    for i in identifiers:\n",
    "        file = os.path.join('.', temp_dir, file_name_template + '_' + i+ '.h5ad')\n",
    "        ob_list.append(sc.read_h5ad(file))\n",
    "    return ob_list"
   ]
  },
  {
   "cell_type": "code",
   "execution_count": 160,
   "metadata": {},
   "outputs": [
    {
     "name": "stderr",
     "output_type": "stream",
     "text": [
      "... storing 'stage' as categorical\n",
      "... storing 'Chromosome' as categorical\n",
      "... storing 'Strand' as categorical\n",
      "... storing 'stage' as categorical\n",
      "... storing 'Chromosome' as categorical\n",
      "... storing 'Strand' as categorical\n",
      "... storing 'stage' as categorical\n",
      "... storing 'Chromosome' as categorical\n",
      "... storing 'Strand' as categorical\n",
      "... storing 'stage' as categorical\n",
      "... storing 'Chromosome' as categorical\n",
      "... storing 'Strand' as categorical\n",
      "... storing 'stage' as categorical\n",
      "... storing 'Chromosome' as categorical\n",
      "... storing 'Strand' as categorical\n",
      "... storing 'stage' as categorical\n",
      "... storing 'Chromosome' as categorical\n",
      "... storing 'Strand' as categorical\n",
      "... storing 'stage' as categorical\n",
      "... storing 'Chromosome' as categorical\n",
      "... storing 'Strand' as categorical\n",
      "... storing 'stage' as categorical\n",
      "... storing 'Chromosome' as categorical\n",
      "... storing 'Strand' as categorical\n",
      "... storing 'stage' as categorical\n",
      "... storing 'Chromosome' as categorical\n",
      "... storing 'Strand' as categorical\n",
      "... storing 'stage' as categorical\n",
      "... storing 'Chromosome' as categorical\n",
      "... storing 'Strand' as categorical\n"
     ]
    }
   ],
   "source": [
    "save_intermediate_files(datasets_z, 'intermediate_files', 'zUMI_Unprocessed' , 'stage')"
   ]
  },
  {
   "cell_type": "code",
   "execution_count": 23,
   "metadata": {},
   "outputs": [],
   "source": [
    "\n",
    "st08_z, st105_z, st12_z, st13_z, st16_z, st18_z, st20_z, st22_z, st24_z, st27_z = load_intermediate_files( 'intermediate_files', 'zUMI_Unprocessed' , identifiers)"
   ]
  },
  {
   "cell_type": "code",
   "execution_count": 24,
   "metadata": {},
   "outputs": [],
   "source": [
    "datasets_z = [st08_z, st105_z, st12_z, st13_z, st16_z, st18_z, st20_z, st22_z, st24_z, st27_z]"
   ]
  },
  {
   "cell_type": "markdown",
   "metadata": {},
   "source": [
    "## Preprocess"
   ]
  },
  {
   "cell_type": "code",
   "execution_count": null,
   "metadata": {},
   "outputs": [],
   "source": []
  },
  {
   "cell_type": "code",
   "execution_count": 25,
   "metadata": {},
   "outputs": [],
   "source": [
    "# add the total counts per cell as observations-annotation to adata\n",
    "for d in datasets_z:\n",
    "    d.obs['n_counts'] = d.X.sum(axis=1).A1\n",
    "    d.obs['n_genes'] = (d.X != 0).sum(axis=1)"
   ]
  },
  {
   "cell_type": "code",
   "execution_count": null,
   "metadata": {},
   "outputs": [],
   "source": []
  },
  {
   "cell_type": "code",
   "execution_count": 15,
   "metadata": {},
   "outputs": [
    {
     "data": {
      "image/png": "[encoded data removed]",
      "text/plain": [
       "<Figure size 360x432 with 10 Axes>"
      ]
     },
     "metadata": {},
     "output_type": "display_data"
    },
    {
     "data": {
      "image/png": "[encoded data removed]",
      "text/plain": [
       "<Figure size 360x432 with 10 Axes>"
      ]
     },
     "metadata": {},
     "output_type": "display_data"
    }
   ],
   "source": [
    "pal = sns.color_palette(\n",
    "            'rainbow', 10)\n",
    "\n",
    "fig, axs = plt.subplots(10,1, figsize=(5, 6), facecolor='w' )\n",
    "axs = axs.ravel()   \n",
    "\n",
    "for i in range(len(datasets_z)):\n",
    "    sns.distplot(datasets_z[i].obs.n_genes, ax = axs[i], hist = False,color=pal[i] , kde_kws={'shade':True})\n",
    "    #axs[i].set_yticks([])\n",
    "    axs[i].set_ylabel('')\n",
    "    if i < 9:\n",
    "        axs[i].set_xticks([])\n",
    "        \n",
    "        axs[i].set_xlabel('')\n",
    "        #axs[i].despine(bottom=True, left=True)\n",
    "    axs[i].spines['top'].set_visible(False)\n",
    "    axs[i].spines['right'].set_visible(False)\n",
    "    axs[i].spines['left'].set_visible(False)\n",
    "    axs[i].set_xlim(0, 1500)\n",
    "    plt.tight_layout()\n",
    "        \n",
    "plt.savefig('./intermediate_files/Figures/Distplot_genes_raw.pdf',dpi = 500)\n",
    "\n",
    "\n",
    "fig, axs = plt.subplots(10,1, figsize=(5, 6), facecolor='w')\n",
    "axs = axs.ravel()   \n",
    "for i in range(len(datasets_z)):\n",
    "    sns.distplot(datasets_z[i].obs.n_counts, ax = axs[i], hist = False,color=pal[i], kde_kws={'shade':True})\n",
    "    #axs[i].set_yticks([])\n",
    "    axs[i].set_ylabel('')\n",
    "    if i < 9:\n",
    "        axs[i].set_xticks([])\n",
    "        \n",
    "        axs[i].set_xlabel('')\n",
    "        #axs[i].despine(bottom=True, left=True)\n",
    "    axs[i].spines['top'].set_visible(False)\n",
    "    axs[i].spines['right'].set_visible(False)\n",
    "    axs[i].spines['left'].set_visible(False)\n",
    "    axs[i].set_xlim(0, 3000)\n",
    "    plt.tight_layout()\n",
    "plt.savefig('./intermediate_files/Figures/Distplot_counts_raw.pdf',dpi = 500)"
   ]
  },
  {
   "cell_type": "code",
   "execution_count": null,
   "metadata": {},
   "outputs": [],
   "source": []
  },
  {
   "cell_type": "code",
   "execution_count": 28,
   "metadata": {},
   "outputs": [],
   "source": [
    "\n",
    "\n",
    "st08_z, st105_z, st12_z, st13_z, st16_z, st18_z, st20_z, st22_z, st24_z, st27_z = datasets_z\n",
    "\n"
   ]
  },
  {
   "cell_type": "markdown",
   "metadata": {},
   "source": [
    "## Running Emptydrops"
   ]
  },
  {
   "cell_type": "markdown",
   "metadata": {},
   "source": [
    "run emptydrops using R script: run_empty_drops.R\n"
   ]
  },
  {
   "cell_type": "code",
   "execution_count": 29,
   "metadata": {},
   "outputs": [],
   "source": [
    "file_path = '/work/sduknn/Andreas/xenopus/zUMI_out/scCapSt{}/zUMIs_output/expression/zUMI_scCapSt{}.csv'\n",
    "\n",
    "\n"
   ]
  },
  {
   "cell_type": "code",
   "execution_count": 30,
   "metadata": {},
   "outputs": [
    {
     "name": "stdout",
     "output_type": "stream",
     "text": [
      "08\n",
      "105\n",
      "12\n",
      "13\n",
      "16\n",
      "18\n",
      "20\n",
      "22\n",
      "24\n",
      "27\n"
     ]
    }
   ],
   "source": [
    "datasets_new = []\n",
    "m = {True:'Cell', False:'Background'}\n",
    "for dx , d in enumerate(datasets_z):\n",
    "    \n",
    "    stage = datasets_z[dx].obs['stage'][0].replace('.', '').replace('st', '')\n",
    "    print(stage)\n",
    "    bcs = pd.read_csv(file_path.format(stage,stage), header = None)\n",
    "    bcs =[bc for bc in bcs[0].tolist()]\n",
    "    \n",
    "    \n",
    "    datasets_z[dx].obs['Empty_drops'] = [m[x in bcs] for x in datasets_z[dx].obs_names]\n",
    "\n",
    "    "
   ]
  },
  {
   "cell_type": "code",
   "execution_count": 33,
   "metadata": {},
   "outputs": [],
   "source": [
    "sc.concat(datasets_z).obs.Empty_drops.to_csv('Sup_tables/Empty_drops.tsv', sep = '\\t')"
   ]
  },
  {
   "cell_type": "code",
   "execution_count": 71,
   "metadata": {},
   "outputs": [],
   "source": [
    "from matplotlib.lines import Line2D"
   ]
  },
  {
   "cell_type": "code",
   "execution_count": 166,
   "metadata": {},
   "outputs": [],
   "source": [
    "m = {'Cell':'#8291f5', 'Background':'#d9dbde'}\n"
   ]
  },
  {
   "cell_type": "code",
   "execution_count": 65,
   "metadata": {},
   "outputs": [],
   "source": [
    "\n",
    "for idx, d in enumerate(datasets_z):\n",
    "    #Remove empty drops classified non-cells\n",
    "    datasets_z[idx] = datasets_z[idx][datasets_z[idx].obs['Empty_drops'] == 'Cell', :]\n",
    "    sc.pp.filter_cells(datasets_z[idx], min_genes=80)\n",
    "    sc.pp.filter_genes(datasets_z[idx], min_cells=3)"
   ]
  },
  {
   "cell_type": "code",
   "execution_count": 66,
   "metadata": {},
   "outputs": [],
   "source": [
    "\n",
    "sc.pp.filter_cells(datasets_z[1], min_genes=300) #st10.5\n",
    "sc.pp.filter_genes(datasets_z[1], min_cells=3)\n",
    "\n",
    "sc.pp.filter_cells(datasets_z[8], min_genes=300) #st24\n",
    "sc.pp.filter_genes(datasets_z[8], min_cells=3)"
   ]
  },
  {
   "cell_type": "markdown",
   "metadata": {},
   "source": [
    "### zUMI Datasets"
   ]
  },
  {
   "cell_type": "code",
   "execution_count": 80,
   "metadata": {},
   "outputs": [],
   "source": [
    "#filter the data\n",
    "#st08_z = st08_z[st08_z.obs['n_genes'] < 300, :]\n",
    "#st08_z = st08_z[st08_z.obs['n_counts'] < 450, :]\n",
    "\n",
    "#st105_z = st105_z[st105_z.obs['n_genes'] < 1000, :]\n",
    "#st105_z = st105_z[st105_z.obs['n_counts'] < 1500, :]\n",
    "\n",
    "#st12_z = st12_z[st12_z.obs['n_genes'] < 1200, :]\n",
    "#st12_z = st12_z[st12_z.obs['n_counts'] < 2000, :]\n",
    "\n",
    "#st13_z = st13_z[st13_z.obs['n_genes'] < 300, :]\n",
    "#st13_z = st13_z[st13_z.obs['n_counts'] < 500, :]\n",
    "\n",
    "#st16_z = st16_z[st16_z.obs['n_genes'] < 300, :]\n",
    "#st16_z = st16_z[st16_z.obs['n_counts'] < 600, :]\n",
    "\n",
    "#st18_z = st18_z[st18_z.obs['n_genes'] < 500, :]\n",
    "#st18_z = st18_z[st18_z.obs['n_counts'] < 900, :]\n",
    "\n",
    "#st20_z = st20_z[st20_z.obs['n_genes'] < 350, :]\n",
    "#st20_z = st20_z[st20_z.obs['n_counts'] < 600, :]\n",
    "\n",
    "#st22_z = st22_z[st22_z.obs['n_genes'] < 1200, :]\n",
    "#st22_z = st22_z[st22_z.obs['n_counts'] < 2500, :]\n",
    "\n",
    "#st24_z = st24_z[st24_z.obs['n_genes'] < 800, :]\n",
    "#st24_z = st24_z[st24_z.obs['n_counts'] < 1100, :]\n",
    "\n",
    "#st27_z = st27_z[st27_z.obs['n_genes'] < 800, :]\n",
    "#st27_z = st27_z[st27_z.obs['n_counts'] < 2000, :]\n",
    "\n",
    "\n",
    "\n",
    "\n",
    "#st13_z = sc.pp.filter_cells(st13_z, min_genes=200, copy=True)\n",
    "#st13_z = sc.pp.filter_genes(st13_z, min_cells=3, copy=True)\n",
    "\n",
    "#st18_z = sc.pp.filter_cells(st18_z, min_genes=200, copy=True)\n",
    "#st18_z = sc.pp.filter_genes(st18_z, min_cells=3, copy=True)\n",
    "\n",
    "#st24_z = sc.pp.filter_cells(st24_z, min_genes=300, copy=True)\n",
    "#st24_z = sc.pp.filter_genes(st24_z, min_cells=3, copy=True)\n",
    "\n",
    "\n"
   ]
  },
  {
   "cell_type": "markdown",
   "metadata": {},
   "source": [
    "## Using scrublet to classify doublets"
   ]
  },
  {
   "cell_type": "code",
   "execution_count": 70,
   "metadata": {},
   "outputs": [],
   "source": [
    "\n",
    "import scrublet as scr"
   ]
  },
  {
   "cell_type": "code",
   "execution_count": 71,
   "metadata": {},
   "outputs": [],
   "source": [
    "def run_scrublet(datasets): \n",
    "    for idx, i in enumerate(datasets):\n",
    "        scrub = scr.Scrublet(datasets[idx].X, expected_doublet_rate=0.06)\n",
    "        \n",
    "        doublet_scores, predicted_doublets = scrub.scrub_doublets(min_counts=2, \n",
    "                                                          min_cells=3, \n",
    "                                                          min_gene_variability_pctl=85, \n",
    "                                                          n_prin_comps=30)\n",
    "        m = {False:'Singlet', True:'Doublet'}\n",
    "        datasets[idx].obs['scrublet_classify'] = [m[x] for x in predicted_doublets]\n",
    "        datasets[idx].obs['scrublet_scores'] = doublet_scores"
   ]
  },
  {
   "cell_type": "code",
   "execution_count": 72,
   "metadata": {},
   "outputs": [
    {
     "name": "stdout",
     "output_type": "stream",
     "text": [
      "Preprocessing...\n",
      "Simulating doublets...\n",
      "Embedding transcriptomes using PCA...\n",
      "Calculating doublet scores...\n",
      "Automatically set threshold at doublet score = 0.21\n",
      "Detected doublet rate = 0.1%\n",
      "Estimated detectable doublet fraction = 0.1%\n",
      "Overall doublet rate:\n",
      "\tExpected   = 6.0%\n",
      "\tEstimated  = 66.7%\n",
      "Elapsed time: 5.0 seconds\n",
      "Preprocessing...\n",
      "Simulating doublets...\n",
      "Embedding transcriptomes using PCA...\n",
      "Calculating doublet scores...\n",
      "Automatically set threshold at doublet score = 0.42\n",
      "Detected doublet rate = 0.2%\n",
      "Estimated detectable doublet fraction = 0.4%\n",
      "Overall doublet rate:\n",
      "\tExpected   = 6.0%\n",
      "\tEstimated  = 60.0%\n",
      "Elapsed time: 0.8 seconds\n",
      "Preprocessing...\n",
      "Simulating doublets...\n",
      "Embedding transcriptomes using PCA...\n",
      "Calculating doublet scores...\n",
      "Automatically set threshold at doublet score = 0.38\n",
      "Detected doublet rate = 0.7%\n",
      "Estimated detectable doublet fraction = 2.7%\n",
      "Overall doublet rate:\n",
      "\tExpected   = 6.0%\n",
      "\tEstimated  = 25.0%\n",
      "Elapsed time: 1.0 seconds\n",
      "Preprocessing...\n",
      "Simulating doublets...\n",
      "Embedding transcriptomes using PCA...\n",
      "Calculating doublet scores...\n",
      "Automatically set threshold at doublet score = 0.32\n",
      "Detected doublet rate = 0.0%\n",
      "Estimated detectable doublet fraction = 0.0%\n",
      "Overall doublet rate:\n",
      "\tExpected   = 6.0%\n",
      "\tEstimated  = 0.0%\n",
      "Elapsed time: 4.2 seconds\n",
      "Preprocessing...\n",
      "Simulating doublets...\n",
      "Embedding transcriptomes using PCA...\n",
      "Calculating doublet scores...\n",
      "Automatically set threshold at doublet score = 0.44\n",
      "Detected doublet rate = 0.0%\n",
      "Estimated detectable doublet fraction = 0.1%\n",
      "Overall doublet rate:\n",
      "\tExpected   = 6.0%\n",
      "\tEstimated  = 0.0%\n",
      "Elapsed time: 1.8 seconds\n",
      "Preprocessing...\n",
      "Simulating doublets...\n",
      "Embedding transcriptomes using PCA...\n",
      "Calculating doublet scores...\n",
      "Automatically set threshold at doublet score = 0.57\n",
      "Detected doublet rate = 0.1%\n",
      "Estimated detectable doublet fraction = 0.7%\n",
      "Overall doublet rate:\n",
      "\tExpected   = 6.0%\n",
      "\tEstimated  = 10.5%\n",
      "Elapsed time: 2.8 seconds\n",
      "Preprocessing...\n",
      "Simulating doublets...\n",
      "Embedding transcriptomes using PCA...\n",
      "Calculating doublet scores...\n",
      "Automatically set threshold at doublet score = 0.54\n",
      "Detected doublet rate = 0.0%\n",
      "Estimated detectable doublet fraction = 0.2%\n",
      "Overall doublet rate:\n",
      "\tExpected   = 6.0%\n",
      "\tEstimated  = 12.5%\n",
      "Elapsed time: 2.0 seconds\n",
      "Preprocessing...\n",
      "Simulating doublets...\n",
      "Embedding transcriptomes using PCA...\n",
      "Calculating doublet scores...\n",
      "Automatically set threshold at doublet score = 0.23\n",
      "Detected doublet rate = 5.0%\n",
      "Estimated detectable doublet fraction = 56.8%\n",
      "Overall doublet rate:\n",
      "\tExpected   = 6.0%\n",
      "\tEstimated  = 8.9%\n",
      "Elapsed time: 4.2 seconds\n",
      "Preprocessing...\n",
      "Simulating doublets...\n",
      "Embedding transcriptomes using PCA...\n",
      "Calculating doublet scores...\n",
      "Automatically set threshold at doublet score = 0.21\n",
      "Detected doublet rate = 5.1%\n",
      "Estimated detectable doublet fraction = 49.9%\n",
      "Overall doublet rate:\n",
      "\tExpected   = 6.0%\n",
      "\tEstimated  = 10.2%\n",
      "Elapsed time: 2.0 seconds\n",
      "Preprocessing...\n",
      "Simulating doublets...\n",
      "Embedding transcriptomes using PCA...\n",
      "Calculating doublet scores...\n",
      "Automatically set threshold at doublet score = 0.21\n",
      "Detected doublet rate = 3.4%\n",
      "Estimated detectable doublet fraction = 37.3%\n",
      "Overall doublet rate:\n",
      "\tExpected   = 6.0%\n",
      "\tEstimated  = 9.0%\n",
      "Elapsed time: 2.2 seconds\n"
     ]
    }
   ],
   "source": [
    "run_scrublet(datasets_z)"
   ]
  },
  {
   "cell_type": "code",
   "execution_count": 73,
   "metadata": {},
   "outputs": [],
   "source": [
    "st08_z, st105_z, st12_z, st13_z, st16_z, st18_z, st20_z, st22_z, st24_z, st27_z = datasets_z\n",
    "datasets_z = [st08_z, st105_z, st12_z, st13_z, st16_z, st18_z, st20_z, st22_z, st24_z, st27_z]\n",
    "\n"
   ]
  },
  {
   "cell_type": "code",
   "execution_count": 181,
   "metadata": {},
   "outputs": [
    {
     "name": "stderr",
     "output_type": "stream",
     "text": [
      "... storing 'scrublet_classify' as categorical\n",
      "... storing 'scrublet_classify' as categorical\n",
      "... storing 'scrublet_classify' as categorical\n",
      "... storing 'scrublet_classify' as categorical\n",
      "... storing 'scrublet_classify' as categorical\n",
      "... storing 'scrublet_classify' as categorical\n",
      "... storing 'scrublet_classify' as categorical\n",
      "... storing 'scrublet_classify' as categorical\n",
      "... storing 'scrublet_classify' as categorical\n",
      "... storing 'scrublet_classify' as categorical\n"
     ]
    }
   ],
   "source": [
    "datasets_save = remove_doublets(datasets_z)\n",
    "save_intermediate_files(datasets_save, 'intermediate_files', 'zUMI_raw_singlets' , 'stage')"
   ]
  },
  {
   "cell_type": "code",
   "execution_count": 34,
   "metadata": {},
   "outputs": [],
   "source": [
    "st08_z, st105_z, st12_z, st13_z, st16_z, st18_z, st20_z, st22_z, st24_z, st27_z = load_intermediate_files( 'intermediate_files', 'zUMI_raw_singlets' , identifiers)\n",
    "\n",
    "\n",
    "datasets_z = [st08_z, st105_z, st12_z, st13_z, st16_z, st18_z, st20_z, st22_z, st24_z, st27_z]"
   ]
  },
  {
   "cell_type": "code",
   "execution_count": 37,
   "metadata": {},
   "outputs": [
    {
     "name": "stderr",
     "output_type": "stream",
     "text": [
      "Observation names are not unique. To make them unique, call `.obs_names_make_unique`.\n"
     ]
    },
    {
     "data": {
      "text/plain": [
       "Index(['AAACGGGCAGTCAGCC', 'AAACCTGCAATTCCTT', 'AACCGCGAGCAGGTCA',\n",
       "       'AAAGATGAGATACACA', 'AACGTTGGTCGACTGC', 'AACACGTGTTAAAGAC',\n",
       "       'AAACCTGCACCAACCG', 'AACACGTCACGCGAAA', 'AACACGTGTCTGGAGA',\n",
       "       'AACCGCGTCGCCTGAG',\n",
       "       ...\n",
       "       'TTGTAGGGTCAACATC', 'TTGTAGGTCACAATGC', 'TTTGCGCGTCAGAATA',\n",
       "       'TTTGGTTTCAGATAAG', 'TTTATGCCAGCCTTGG', 'TTTGGTTTCTTTAGGG',\n",
       "       'TTTCCTCAGAAGGTGA', 'TTTGCGCAGAGTGACC', 'TTTATGCTCAACACTG',\n",
       "       'TTGTAGGGTAGCTGCC'],\n",
       "      dtype='object', name='index', length=33990)"
      ]
     },
     "execution_count": 37,
     "metadata": {},
     "output_type": "execute_result"
    }
   ],
   "source": [
    "sc.concat(datasets_z).obs_names#.scrublet_classify"
   ]
  },
  {
   "cell_type": "code",
   "execution_count": 12,
   "metadata": {},
   "outputs": [
    {
     "data": {
      "image/png": "[encoded data removed]",
      "text/plain": [
       "<Figure size 360x432 with 10 Axes>"
      ]
     },
     "metadata": {},
     "output_type": "display_data"
    },
    {
     "data": {
      "image/png": "[encoded data removed]",
      "text/plain": [
       "<Figure size 360x432 with 10 Axes>"
      ]
     },
     "metadata": {},
     "output_type": "display_data"
    }
   ],
   "source": [
    "pal = sns.color_palette(\n",
    "            'rainbow', 10)\n",
    "\n",
    "fig, axs = plt.subplots(10,1, figsize=(5, 6), facecolor='w' )\n",
    "axs = axs.ravel()   \n",
    "\n",
    "for i in range(len(datasets_z)):\n",
    "    sns.distplot(datasets_z[i].obs.n_genes, ax = axs[i], hist = True,color=pal[i] , kde_kws={'shade':False}, bins = 10)\n",
    "    #axs[i].set_yticks([])\n",
    "    axs[i].set_ylabel('')\n",
    "    if i < 9:\n",
    "        axs[i].set_xticks([])\n",
    "        \n",
    "        axs[i].set_xlabel('')\n",
    "        #axs[i].despine(bottom=True, left=True)\n",
    "    axs[i].spines['top'].set_visible(False)\n",
    "    axs[i].spines['right'].set_visible(False)\n",
    "    axs[i].spines['left'].set_visible(False)\n",
    "    axs[i].set_xlim(0, 1500)\n",
    "    plt.tight_layout()\n",
    "        \n",
    "plt.savefig('./intermediate_files/Figures/Distplot_genes_filtered.pdf',dpi = 500)\n",
    "\n",
    "\n",
    "fig, axs = plt.subplots(10,1, figsize=(5, 6), facecolor='w')\n",
    "axs = axs.ravel()   \n",
    "for i in range(len(datasets_z)):\n",
    "    sns.distplot(datasets_z[i].obs.n_counts, ax = axs[i], hist = True,color=pal[i], kde_kws={'shade':False}, bins = 10)\n",
    "    #axs[i].set_yticks([])\n",
    "    axs[i].set_ylabel('')\n",
    "    if i < 9:\n",
    "        axs[i].set_xticks([])\n",
    "        \n",
    "        axs[i].set_xlabel('')\n",
    "        #axs[i].despine(bottom=True, left=True)\n",
    "    axs[i].spines['top'].set_visible(False)\n",
    "    axs[i].spines['right'].set_visible(False)\n",
    "    axs[i].spines['left'].set_visible(False)\n",
    "    axs[i].set_xlim(0, 3000)\n",
    "    plt.tight_layout()\n",
    "plt.savefig('./intermediate_files/Figures/Distplot_counts_filtered.pdf',dpi = 500)"
   ]
  },
  {
   "cell_type": "code",
   "execution_count": 17,
   "metadata": {},
   "outputs": [
    {
     "data": {
      "image/png": "[encoded data removed]",
      "text/plain": [
       "<Figure size 432x288 with 1 Axes>"
      ]
     },
     "metadata": {},
     "output_type": "display_data"
    }
   ],
   "source": [
    "import matplotlib.pyplot as plt\n",
    "\n",
    "# Pie chart, where the slices will be ordered and plotted counter-clockwise:\n",
    "labels = 'Empty barcodes\\n{}'.format(213010 - 42007), 'Doublets\\n{}'.format(42007-33990), 'Singlets\\n{}'.format(33990)\n",
    "sizes = [213010 - 42007, 42007-33990, 33990]\n",
    "explode = (0, 0, 0.2) \n",
    "\n",
    "fig1, ax1 = plt.subplots()\n",
    "ax1.pie(sizes, explode=explode, labels=labels, autopct='%1.2f%%',\n",
    "        shadow=False, startangle=90, colors = ['lightgrey', 'firebrick', 'forestgreen'])\n",
    "ax1.axis('equal')  # Equal aspect ratio ensures that pie is drawn as a circle.\n",
    "\n",
    "plt.savefig('QC_pie_chart.pdf')"
   ]
  },
  {
   "cell_type": "code",
   "execution_count": null,
   "metadata": {},
   "outputs": [],
   "source": []
  },
  {
   "cell_type": "code",
   "execution_count": null,
   "metadata": {},
   "outputs": [],
   "source": []
  },
  {
   "cell_type": "code",
   "execution_count": null,
   "metadata": {},
   "outputs": [],
   "source": []
  },
  {
   "cell_type": "code",
   "execution_count": null,
   "metadata": {},
   "outputs": [],
   "source": []
  }
 ],
 "metadata": {
  "kernelspec": {
   "display_name": "Python 3",
   "language": "python",
   "name": "python3"
  },
  "language_info": {
   "codemirror_mode": {
    "name": "ipython",
    "version": 3
   },
   "file_extension": ".py",
   "mimetype": "text/x-python",
   "name": "python",
   "nbconvert_exporter": "python",
   "pygments_lexer": "ipython3",
   "version": "3.7.8"
  }
 },
 "nbformat": 4,
 "nbformat_minor": 4
}
